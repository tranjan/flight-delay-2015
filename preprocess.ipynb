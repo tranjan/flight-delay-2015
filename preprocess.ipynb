{
 "cells": [
  {
   "cell_type": "code",
   "execution_count": 1,
   "metadata": {
    "collapsed": false
   },
   "outputs": [
    {
     "name": "stderr",
     "output_type": "stream",
     "text": [
      "/Users/TusharRanjan/anaconda/lib/python2.7/site-packages/matplotlib/font_manager.py:273: UserWarning: Matplotlib is building the font cache using fc-list. This may take a moment.\n",
      "  warnings.warn('Matplotlib is building the font cache using fc-list. This may take a moment.')\n"
     ]
    }
   ],
   "source": [
    "import pandas as pd\n",
    "import matplotlib.pyplot as plt\n",
    "%matplotlib inline"
   ]
  },
  {
   "cell_type": "markdown",
   "metadata": {},
   "source": [
    "<h1>This workflow is also replicated in preprocess.py.</h1>"
   ]
  },
  {
   "cell_type": "code",
   "execution_count": 2,
   "metadata": {
    "collapsed": true
   },
   "outputs": [],
   "source": [
    "df = pd.read_csv('flights.csv', low_memory=False)"
   ]
  },
  {
   "cell_type": "code",
   "execution_count": 3,
   "metadata": {
    "collapsed": false
   },
   "outputs": [
    {
     "data": {
      "text/html": [
       "<div>\n",
       "<table border=\"1\" class=\"dataframe\">\n",
       "  <thead>\n",
       "    <tr style=\"text-align: right;\">\n",
       "      <th></th>\n",
       "      <th>YEAR</th>\n",
       "      <th>MONTH</th>\n",
       "      <th>DAY</th>\n",
       "      <th>DAY_OF_WEEK</th>\n",
       "      <th>AIRLINE</th>\n",
       "      <th>FLIGHT_NUMBER</th>\n",
       "      <th>TAIL_NUMBER</th>\n",
       "      <th>ORIGIN_AIRPORT</th>\n",
       "      <th>DESTINATION_AIRPORT</th>\n",
       "      <th>SCHEDULED_DEPARTURE</th>\n",
       "      <th>...</th>\n",
       "      <th>ARRIVAL_TIME</th>\n",
       "      <th>ARRIVAL_DELAY</th>\n",
       "      <th>DIVERTED</th>\n",
       "      <th>CANCELLED</th>\n",
       "      <th>CANCELLATION_REASON</th>\n",
       "      <th>AIR_SYSTEM_DELAY</th>\n",
       "      <th>SECURITY_DELAY</th>\n",
       "      <th>AIRLINE_DELAY</th>\n",
       "      <th>LATE_AIRCRAFT_DELAY</th>\n",
       "      <th>WEATHER_DELAY</th>\n",
       "    </tr>\n",
       "  </thead>\n",
       "  <tbody>\n",
       "    <tr>\n",
       "      <th>0</th>\n",
       "      <td>2015</td>\n",
       "      <td>1</td>\n",
       "      <td>1</td>\n",
       "      <td>4</td>\n",
       "      <td>AS</td>\n",
       "      <td>98</td>\n",
       "      <td>N407AS</td>\n",
       "      <td>ANC</td>\n",
       "      <td>SEA</td>\n",
       "      <td>5</td>\n",
       "      <td>...</td>\n",
       "      <td>408.0</td>\n",
       "      <td>-22.0</td>\n",
       "      <td>0</td>\n",
       "      <td>0</td>\n",
       "      <td>NaN</td>\n",
       "      <td>NaN</td>\n",
       "      <td>NaN</td>\n",
       "      <td>NaN</td>\n",
       "      <td>NaN</td>\n",
       "      <td>NaN</td>\n",
       "    </tr>\n",
       "    <tr>\n",
       "      <th>1</th>\n",
       "      <td>2015</td>\n",
       "      <td>1</td>\n",
       "      <td>1</td>\n",
       "      <td>4</td>\n",
       "      <td>AA</td>\n",
       "      <td>2336</td>\n",
       "      <td>N3KUAA</td>\n",
       "      <td>LAX</td>\n",
       "      <td>PBI</td>\n",
       "      <td>10</td>\n",
       "      <td>...</td>\n",
       "      <td>741.0</td>\n",
       "      <td>-9.0</td>\n",
       "      <td>0</td>\n",
       "      <td>0</td>\n",
       "      <td>NaN</td>\n",
       "      <td>NaN</td>\n",
       "      <td>NaN</td>\n",
       "      <td>NaN</td>\n",
       "      <td>NaN</td>\n",
       "      <td>NaN</td>\n",
       "    </tr>\n",
       "    <tr>\n",
       "      <th>2</th>\n",
       "      <td>2015</td>\n",
       "      <td>1</td>\n",
       "      <td>1</td>\n",
       "      <td>4</td>\n",
       "      <td>US</td>\n",
       "      <td>840</td>\n",
       "      <td>N171US</td>\n",
       "      <td>SFO</td>\n",
       "      <td>CLT</td>\n",
       "      <td>20</td>\n",
       "      <td>...</td>\n",
       "      <td>811.0</td>\n",
       "      <td>5.0</td>\n",
       "      <td>0</td>\n",
       "      <td>0</td>\n",
       "      <td>NaN</td>\n",
       "      <td>NaN</td>\n",
       "      <td>NaN</td>\n",
       "      <td>NaN</td>\n",
       "      <td>NaN</td>\n",
       "      <td>NaN</td>\n",
       "    </tr>\n",
       "    <tr>\n",
       "      <th>3</th>\n",
       "      <td>2015</td>\n",
       "      <td>1</td>\n",
       "      <td>1</td>\n",
       "      <td>4</td>\n",
       "      <td>AA</td>\n",
       "      <td>258</td>\n",
       "      <td>N3HYAA</td>\n",
       "      <td>LAX</td>\n",
       "      <td>MIA</td>\n",
       "      <td>20</td>\n",
       "      <td>...</td>\n",
       "      <td>756.0</td>\n",
       "      <td>-9.0</td>\n",
       "      <td>0</td>\n",
       "      <td>0</td>\n",
       "      <td>NaN</td>\n",
       "      <td>NaN</td>\n",
       "      <td>NaN</td>\n",
       "      <td>NaN</td>\n",
       "      <td>NaN</td>\n",
       "      <td>NaN</td>\n",
       "    </tr>\n",
       "    <tr>\n",
       "      <th>4</th>\n",
       "      <td>2015</td>\n",
       "      <td>1</td>\n",
       "      <td>1</td>\n",
       "      <td>4</td>\n",
       "      <td>AS</td>\n",
       "      <td>135</td>\n",
       "      <td>N527AS</td>\n",
       "      <td>SEA</td>\n",
       "      <td>ANC</td>\n",
       "      <td>25</td>\n",
       "      <td>...</td>\n",
       "      <td>259.0</td>\n",
       "      <td>-21.0</td>\n",
       "      <td>0</td>\n",
       "      <td>0</td>\n",
       "      <td>NaN</td>\n",
       "      <td>NaN</td>\n",
       "      <td>NaN</td>\n",
       "      <td>NaN</td>\n",
       "      <td>NaN</td>\n",
       "      <td>NaN</td>\n",
       "    </tr>\n",
       "  </tbody>\n",
       "</table>\n",
       "<p>5 rows × 31 columns</p>\n",
       "</div>"
      ],
      "text/plain": [
       "   YEAR  MONTH  DAY  DAY_OF_WEEK AIRLINE  FLIGHT_NUMBER TAIL_NUMBER  \\\n",
       "0  2015      1    1            4      AS             98      N407AS   \n",
       "1  2015      1    1            4      AA           2336      N3KUAA   \n",
       "2  2015      1    1            4      US            840      N171US   \n",
       "3  2015      1    1            4      AA            258      N3HYAA   \n",
       "4  2015      1    1            4      AS            135      N527AS   \n",
       "\n",
       "  ORIGIN_AIRPORT DESTINATION_AIRPORT  SCHEDULED_DEPARTURE      ...        \\\n",
       "0            ANC                 SEA                    5      ...         \n",
       "1            LAX                 PBI                   10      ...         \n",
       "2            SFO                 CLT                   20      ...         \n",
       "3            LAX                 MIA                   20      ...         \n",
       "4            SEA                 ANC                   25      ...         \n",
       "\n",
       "   ARRIVAL_TIME  ARRIVAL_DELAY  DIVERTED  CANCELLED  CANCELLATION_REASON  \\\n",
       "0         408.0          -22.0         0          0                  NaN   \n",
       "1         741.0           -9.0         0          0                  NaN   \n",
       "2         811.0            5.0         0          0                  NaN   \n",
       "3         756.0           -9.0         0          0                  NaN   \n",
       "4         259.0          -21.0         0          0                  NaN   \n",
       "\n",
       "   AIR_SYSTEM_DELAY  SECURITY_DELAY  AIRLINE_DELAY  LATE_AIRCRAFT_DELAY  \\\n",
       "0               NaN             NaN            NaN                  NaN   \n",
       "1               NaN             NaN            NaN                  NaN   \n",
       "2               NaN             NaN            NaN                  NaN   \n",
       "3               NaN             NaN            NaN                  NaN   \n",
       "4               NaN             NaN            NaN                  NaN   \n",
       "\n",
       "   WEATHER_DELAY  \n",
       "0            NaN  \n",
       "1            NaN  \n",
       "2            NaN  \n",
       "3            NaN  \n",
       "4            NaN  \n",
       "\n",
       "[5 rows x 31 columns]"
      ]
     },
     "execution_count": 3,
     "metadata": {},
     "output_type": "execute_result"
    }
   ],
   "source": [
    "df.head()"
   ]
  },
  {
   "cell_type": "code",
   "execution_count": 4,
   "metadata": {
    "collapsed": false
   },
   "outputs": [
    {
     "data": {
      "text/plain": [
       "(5819079, 31)"
      ]
     },
     "execution_count": 4,
     "metadata": {},
     "output_type": "execute_result"
    }
   ],
   "source": [
    "df.shape"
   ]
  },
  {
   "cell_type": "code",
   "execution_count": 5,
   "metadata": {
    "collapsed": false
   },
   "outputs": [
    {
     "name": "stdout",
     "output_type": "stream",
     "text": [
      "<class 'pandas.core.frame.DataFrame'>\n",
      "RangeIndex: 5819079 entries, 0 to 5819078\n",
      "Data columns (total 31 columns):\n",
      "YEAR                   int64\n",
      "MONTH                  int64\n",
      "DAY                    int64\n",
      "DAY_OF_WEEK            int64\n",
      "AIRLINE                object\n",
      "FLIGHT_NUMBER          int64\n",
      "TAIL_NUMBER            object\n",
      "ORIGIN_AIRPORT         object\n",
      "DESTINATION_AIRPORT    object\n",
      "SCHEDULED_DEPARTURE    int64\n",
      "DEPARTURE_TIME         float64\n",
      "DEPARTURE_DELAY        float64\n",
      "TAXI_OUT               float64\n",
      "WHEELS_OFF             float64\n",
      "SCHEDULED_TIME         float64\n",
      "ELAPSED_TIME           float64\n",
      "AIR_TIME               float64\n",
      "DISTANCE               int64\n",
      "WHEELS_ON              float64\n",
      "TAXI_IN                float64\n",
      "SCHEDULED_ARRIVAL      int64\n",
      "ARRIVAL_TIME           float64\n",
      "ARRIVAL_DELAY          float64\n",
      "DIVERTED               int64\n",
      "CANCELLED              int64\n",
      "CANCELLATION_REASON    object\n",
      "AIR_SYSTEM_DELAY       float64\n",
      "SECURITY_DELAY         float64\n",
      "AIRLINE_DELAY          float64\n",
      "LATE_AIRCRAFT_DELAY    float64\n",
      "WEATHER_DELAY          float64\n",
      "dtypes: float64(16), int64(10), object(5)\n",
      "memory usage: 1.3+ GB\n"
     ]
    }
   ],
   "source": [
    "df.info()"
   ]
  },
  {
   "cell_type": "markdown",
   "metadata": {},
   "source": [
    "<h1>Exploratory Data Analysis</h1>"
   ]
  },
  {
   "cell_type": "markdown",
   "metadata": {},
   "source": [
    "<h3>NaNs</h3>"
   ]
  },
  {
   "cell_type": "code",
   "execution_count": 6,
   "metadata": {
    "collapsed": false
   },
   "outputs": [
    {
     "name": "stdout",
     "output_type": "stream",
     "text": [
      "YEAR 0\n",
      "MONTH 0\n",
      "DAY 0\n",
      "DAY_OF_WEEK 0\n",
      "AIRLINE 0\n",
      "FLIGHT_NUMBER 0\n",
      "TAIL_NUMBER 14721\n",
      "ORIGIN_AIRPORT 0\n",
      "DESTINATION_AIRPORT 0\n",
      "SCHEDULED_DEPARTURE 0\n",
      "DEPARTURE_TIME 86153\n",
      "DEPARTURE_DELAY 86153\n",
      "TAXI_OUT 89047\n",
      "WHEELS_OFF 89047\n",
      "SCHEDULED_TIME 6\n",
      "ELAPSED_TIME 105071\n",
      "AIR_TIME 105071\n",
      "DISTANCE 0\n",
      "WHEELS_ON 92513\n",
      "TAXI_IN 92513\n",
      "SCHEDULED_ARRIVAL 0\n",
      "ARRIVAL_TIME 92513\n",
      "ARRIVAL_DELAY 105071\n",
      "DIVERTED 0\n",
      "CANCELLED 0\n",
      "CANCELLATION_REASON 5729195\n",
      "AIR_SYSTEM_DELAY 4755640\n",
      "SECURITY_DELAY 4755640\n",
      "AIRLINE_DELAY 4755640\n",
      "LATE_AIRCRAFT_DELAY 4755640\n",
      "WEATHER_DELAY 4755640\n"
     ]
    }
   ],
   "source": [
    "for col in df.columns:\n",
    "    print col, pd.isnull(df[col]).sum()"
   ]
  },
  {
   "cell_type": "markdown",
   "metadata": {},
   "source": [
    "<h3>Year</h3>"
   ]
  },
  {
   "cell_type": "code",
   "execution_count": 7,
   "metadata": {
    "collapsed": false
   },
   "outputs": [
    {
     "data": {
      "text/plain": [
       "(array([      0.,       0.,       0.,       0.,       0., 5819079.,\n",
       "              0.,       0.,       0.,       0.]),\n",
       " array([2014.5, 2014.6, 2014.7, 2014.8, 2014.9, 2015. , 2015.1, 2015.2,\n",
       "        2015.3, 2015.4, 2015.5]),\n",
       " <a list of 10 Patch objects>)"
      ]
     },
     "execution_count": 7,
     "metadata": {},
     "output_type": "execute_result"
    },
    {
     "data": {
      "image/png": "[encoded data removed]",
      "text/plain": [
       "<matplotlib.figure.Figure at 0x110d9d990>"
      ]
     },
     "metadata": {},
     "output_type": "display_data"
    }
   ],
   "source": [
    "plt.hist(df['YEAR'])"
   ]
  },
  {
   "cell_type": "code",
   "execution_count": 8,
   "metadata": {
    "collapsed": false
   },
   "outputs": [
    {
     "data": {
      "text/plain": [
       "array([2015])"
      ]
     },
     "execution_count": 8,
     "metadata": {},
     "output_type": "execute_result"
    }
   ],
   "source": [
    "df['YEAR'].unique()"
   ]
  },
  {
   "cell_type": "markdown",
   "metadata": {},
   "source": [
    "The only value for YEAR is 2015. This makes sense because all of the data is from 2015. This column has no real predictive value and can, therefore, be discarded."
   ]
  },
  {
   "cell_type": "code",
   "execution_count": 9,
   "metadata": {
    "collapsed": false
   },
   "outputs": [
    {
     "data": {
      "text/plain": [
       "0          2015\n",
       "1          2015\n",
       "2          2015\n",
       "3          2015\n",
       "4          2015\n",
       "5          2015\n",
       "6          2015\n",
       "7          2015\n",
       "8          2015\n",
       "9          2015\n",
       "10         2015\n",
       "11         2015\n",
       "12         2015\n",
       "13         2015\n",
       "14         2015\n",
       "15         2015\n",
       "16         2015\n",
       "17         2015\n",
       "18         2015\n",
       "19         2015\n",
       "20         2015\n",
       "21         2015\n",
       "22         2015\n",
       "23         2015\n",
       "24         2015\n",
       "25         2015\n",
       "26         2015\n",
       "27         2015\n",
       "28         2015\n",
       "29         2015\n",
       "           ... \n",
       "5819049    2015\n",
       "5819050    2015\n",
       "5819051    2015\n",
       "5819052    2015\n",
       "5819053    2015\n",
       "5819054    2015\n",
       "5819055    2015\n",
       "5819056    2015\n",
       "5819057    2015\n",
       "5819058    2015\n",
       "5819059    2015\n",
       "5819060    2015\n",
       "5819061    2015\n",
       "5819062    2015\n",
       "5819063    2015\n",
       "5819064    2015\n",
       "5819065    2015\n",
       "5819066    2015\n",
       "5819067    2015\n",
       "5819068    2015\n",
       "5819069    2015\n",
       "5819070    2015\n",
       "5819071    2015\n",
       "5819072    2015\n",
       "5819073    2015\n",
       "5819074    2015\n",
       "5819075    2015\n",
       "5819076    2015\n",
       "5819077    2015\n",
       "5819078    2015\n",
       "Name: YEAR, dtype: int64"
      ]
     },
     "execution_count": 9,
     "metadata": {},
     "output_type": "execute_result"
    }
   ],
   "source": [
    "df.pop('YEAR')"
   ]
  },
  {
   "cell_type": "markdown",
   "metadata": {},
   "source": [
    "<h2>CANCELLATION_REASON, AIR_SYSTEM_DELAY, SECURITY_DELAY, AIRLINE_DELAY, LATE_AIRCRAFT_DELAY, WEATHER_DELAY</h2>"
   ]
  },
  {
   "cell_type": "markdown",
   "metadata": {},
   "source": [
    "The vast majority (5729195/5819079, or approximately 98.5%) of the CANCELLATION_REASON column is NaN. Similarly, the majority (4755640/5819079, or 81.7%) of the AIR_SYSTEM_DELAY, SECURITY_DELAY, AIRLINE_DELAY, LATE_AIRCRAFT_DELAY, WEATHER_DELAY are NANs. These five columns can be discarded.\n",
    "\n",
    "More importantly, the AIR_SYSTEM_DELAY, SECURITY_DELAY, AIRLINE_DELAY, LATE_AIRCRAFT_DELAY, and WEATHER_DELAY columns contain information that adds up to the total arrival or departure delay. In other words, keeping those columns would be cheating."
   ]
  },
  {
   "cell_type": "code",
   "execution_count": 10,
   "metadata": {
    "collapsed": true
   },
   "outputs": [],
   "source": [
    "for i in ['CANCELLATION_REASON', 'AIR_SYSTEM_DELAY', 'SECURITY_DELAY', 'AIRLINE_DELAY', 'LATE_AIRCRAFT_DELAY', 'WEATHER_DELAY']:\n",
    "    df.pop(i)"
   ]
  },
  {
   "cell_type": "markdown",
   "metadata": {},
   "source": [
    "<h3>Other NaNs</h3>"
   ]
  },
  {
   "cell_type": "markdown",
   "metadata": {},
   "source": [
    "The following columns also have NaNs:\n",
    "<ul>\n",
    "    <li>TAIL_NUMBER (14721)</li>\n",
    "    <li>DEPARTURE_TIME (86153)</li>\n",
    "    <li>DEPARTURE_DELAY (86153)</li>\n",
    "    <li>TAXI_OUT (89047)</li>\n",
    "    <li>WHEELS_OFF (89047)</li>\n",
    "    <li>SCHEDULED_TIME (6)</li>\n",
    "    <li>ELAPSED_TIME (105071)</li>\n",
    "    <li>AIR_TIME (105071)</li>\n",
    "    <li>WHEELS_ON (92513)</li>\n",
    "    <li>TAXI_IN (92513)</li>\n",
    "    <li>ARRIVAL_TIME (92513)</li>\n",
    "    <li>ARRIVAL_DELAY (105071)</li>\n",
    "</ul>"
   ]
  },
  {
   "cell_type": "code",
   "execution_count": 11,
   "metadata": {
    "collapsed": false
   },
   "outputs": [
    {
     "data": {
      "text/plain": [
       "957879"
      ]
     },
     "execution_count": 11,
     "metadata": {},
     "output_type": "execute_result"
    }
   ],
   "source": [
    "14721 + 86153 + 86153 + 89047 + 89047 + 6 + 105071 + 105071 + 92513 + 92513 + 92513 + 105071"
   ]
  },
  {
   "cell_type": "markdown",
   "metadata": {},
   "source": [
    "At this point, the total number of rows remaining with at least one NaN is between 105071 and 957879. These columns are probably very important to predicting delays, so it will, instead, be necessary to delete the rows that have at least one NaN in them."
   ]
  },
  {
   "cell_type": "code",
   "execution_count": 12,
   "metadata": {
    "collapsed": true
   },
   "outputs": [],
   "source": [
    "for i in df:\n",
    "    df = df[pd.isnull(df[i]) == False]"
   ]
  },
  {
   "cell_type": "code",
   "execution_count": 13,
   "metadata": {
    "collapsed": false
   },
   "outputs": [
    {
     "data": {
      "text/plain": [
       "(5714008, 24)"
      ]
     },
     "execution_count": 13,
     "metadata": {},
     "output_type": "execute_result"
    }
   ],
   "source": [
    "df.shape"
   ]
  },
  {
   "cell_type": "code",
   "execution_count": 14,
   "metadata": {
    "collapsed": false
   },
   "outputs": [
    {
     "data": {
      "text/plain": [
       "0.018056293788071942"
      ]
     },
     "execution_count": 14,
     "metadata": {},
     "output_type": "execute_result"
    }
   ],
   "source": [
    "1.0 - 5714008/5819079."
   ]
  },
  {
   "cell_type": "markdown",
   "metadata": {},
   "source": [
    "Less than 2% of the rows in the dataframe have been deleted, so it's unlikely that deleting those rows will affect the model very much."
   ]
  },
  {
   "cell_type": "markdown",
   "metadata": {},
   "source": [
    "<h3>Other Integer Columns</h3>"
   ]
  },
  {
   "cell_type": "code",
   "execution_count": 15,
   "metadata": {
    "collapsed": false
   },
   "outputs": [
    {
     "data": {
      "text/plain": [
       "9"
      ]
     },
     "execution_count": 15,
     "metadata": {},
     "output_type": "execute_result"
    }
   ],
   "source": [
    "intcols = [col for col in df.columns if df[col].dtype == 'int64']\n",
    "len(intcols)"
   ]
  },
  {
   "cell_type": "markdown",
   "metadata": {},
   "source": [
    "There are nine integer columns remaining in the dataframe. Their unique values are:"
   ]
  },
  {
   "cell_type": "code",
   "execution_count": 16,
   "metadata": {
    "collapsed": false
   },
   "outputs": [
    {
     "data": {
      "image/png": "[encoded data removed]",
      "text/plain": [
       "<matplotlib.figure.Figure at 0x11102aad0>"
      ]
     },
     "metadata": {},
     "output_type": "display_data"
    },
    {
     "data": {
      "image/png": "[encoded data removed]",
      "text/plain": [
       "<matplotlib.figure.Figure at 0x11aaf2790>"
      ]
     },
     "metadata": {},
     "output_type": "display_data"
    },
    {
     "data": {
      "image/png": "[encoded data removed]",
      "text/plain": [
       "<matplotlib.figure.Figure at 0x11ab9bb50>"
      ]
     },
     "metadata": {},
     "output_type": "display_data"
    },
    {
     "data": {
      "image/png": "[encoded data removed]",
      "text/plain": [
       "<matplotlib.figure.Figure at 0x11a433e90>"
      ]
     },
     "metadata": {},
     "output_type": "display_data"
    },
    {
     "data": {
      "image/png": "[encoded data removed]",
      "text/plain": [
       "<matplotlib.figure.Figure at 0x115ee65d0>"
      ]
     },
     "metadata": {},
     "output_type": "display_data"
    },
    {
     "data": {
      "image/png": "[encoded data removed]",
      "text/plain": [
       "<matplotlib.figure.Figure at 0x1820ab0d0>"
      ]
     },
     "metadata": {},
     "output_type": "display_data"
    },
    {
     "data": {
      "image/png": "[encoded data removed]",
      "text/plain": [
       "<matplotlib.figure.Figure at 0x18c44a9d0>"
      ]
     },
     "metadata": {},
     "output_type": "display_data"
    },
    {
     "data": {
      "image/png": "[encoded data removed]",
      "text/plain": [
       "<matplotlib.figure.Figure at 0x18ebe0cd0>"
      ]
     },
     "metadata": {},
     "output_type": "display_data"
    },
    {
     "data": {
      "image/png": "[encoded data removed]",
      "text/plain": [
       "<matplotlib.figure.Figure at 0x19264c610>"
      ]
     },
     "metadata": {},
     "output_type": "display_data"
    }
   ],
   "source": [
    "for col in intcols:\n",
    "    plt.figure()\n",
    "    numunique = len(df[col].unique())\n",
    "    plt.title(col + ' (%i unique values)' % numunique)\n",
    "    plt.hist(df[col], bins = numunique)"
   ]
  },
  {
   "cell_type": "markdown",
   "metadata": {},
   "source": [
    "<h3>Floating point columns</h3>"
   ]
  },
  {
   "cell_type": "code",
   "execution_count": 17,
   "metadata": {
    "collapsed": false
   },
   "outputs": [
    {
     "data": {
      "text/plain": [
       "11"
      ]
     },
     "execution_count": 17,
     "metadata": {},
     "output_type": "execute_result"
    }
   ],
   "source": [
    "floatcols = [col for col in df.columns if df[col].dtype == 'float64']\n",
    "len(floatcols)"
   ]
  },
  {
   "cell_type": "markdown",
   "metadata": {},
   "source": [
    "There are 11 floating point columns in the dataframe. Their histograms are shown below, each with 100 bins:"
   ]
  },
  {
   "cell_type": "code",
   "execution_count": 18,
   "metadata": {
    "collapsed": false
   },
   "outputs": [
    {
     "data": {
      "image/png": "[encoded data removed]",
      "text/plain": [
       "<matplotlib.figure.Figure at 0x11102a910>"
      ]
     },
     "metadata": {},
     "output_type": "display_data"
    },
    {
     "data": {
      "image/png": "[encoded data removed]",
      "text/plain": [
       "<matplotlib.figure.Figure at 0x190a17e50>"
      ]
     },
     "metadata": {},
     "output_type": "display_data"
    },
    {
     "data": {
      "image/png": "[encoded data removed]",
      "text/plain": [
       "<matplotlib.figure.Figure at 0x17759ce50>"
      ]
     },
     "metadata": {},
     "output_type": "display_data"
    },
    {
     "data": {
      "image/png": "[encoded data removed]",
      "text/plain": [
       "<matplotlib.figure.Figure at 0x18ebd2390>"
      ]
     },
     "metadata": {},
     "output_type": "display_data"
    },
    {
     "data": {
      "image/png": "[encoded data removed]",
      "text/plain": [
       "<matplotlib.figure.Figure at 0x18ede8c50>"
      ]
     },
     "metadata": {},
     "output_type": "display_data"
    },
    {
     "data": {
      "image/png": "[encoded data removed]",
      "text/plain": [
       "<matplotlib.figure.Figure at 0x18c89a3d0>"
      ]
     },
     "metadata": {},
     "output_type": "display_data"
    },
    {
     "data": {
      "image/png": "[encoded data removed]",
      "text/plain": [
       "<matplotlib.figure.Figure at 0x18fb133d0>"
      ]
     },
     "metadata": {},
     "output_type": "display_data"
    },
    {
     "data": {
      "image/png": "[encoded data removed]",
      "text/plain": [
       "<matplotlib.figure.Figure at 0x18fd2be90>"
      ]
     },
     "metadata": {},
     "output_type": "display_data"
    },
    {
     "data": {
      "image/png": "[encoded data removed]",
      "text/plain": [
       "<matplotlib.figure.Figure at 0x19094d550>"
      ]
     },
     "metadata": {},
     "output_type": "display_data"
    },
    {
     "data": {
      "image/png": "[encoded data removed]",
      "text/plain": [
       "<matplotlib.figure.Figure at 0x190b3d4d0>"
      ]
     },
     "metadata": {},
     "output_type": "display_data"
    },
    {
     "data": {
      "image/png": "[encoded data removed]",
      "text/plain": [
       "<matplotlib.figure.Figure at 0x18d6fc3d0>"
      ]
     },
     "metadata": {},
     "output_type": "display_data"
    }
   ],
   "source": [
    "for col in floatcols:\n",
    "    plt.figure()\n",
    "    plt.title(col)\n",
    "    plt.hist(df[col], bins = 100)"
   ]
  },
  {
   "cell_type": "markdown",
   "metadata": {},
   "source": [
    "<h3>String columns</h3>"
   ]
  },
  {
   "cell_type": "code",
   "execution_count": 19,
   "metadata": {
    "collapsed": false
   },
   "outputs": [
    {
     "data": {
      "text/plain": [
       "4"
      ]
     },
     "execution_count": 19,
     "metadata": {},
     "output_type": "execute_result"
    }
   ],
   "source": [
    "stringcols = [col for col in df.columns if df[col].dtype == 'object']\n",
    "len(stringcols)"
   ]
  },
  {
   "cell_type": "markdown",
   "metadata": {},
   "source": [
    "There are four string columns in the dataframe. The counts of their unique values are shown below:"
   ]
  },
  {
   "cell_type": "code",
   "execution_count": 20,
   "metadata": {
    "collapsed": false
   },
   "outputs": [
    {
     "name": "stdout",
     "output_type": "stream",
     "text": [
      "AIRLINE 14\n",
      "TAIL_NUMBER 4896\n",
      "ORIGIN_AIRPORT 628\n",
      "DESTINATION_AIRPORT 629\n"
     ]
    }
   ],
   "source": [
    "for col in stringcols:\n",
    "    print col, len(df[col].unique())"
   ]
  },
  {
   "cell_type": "markdown",
   "metadata": {},
   "source": [
    "<h1>Feature Engineering</h1>"
   ]
  },
  {
   "cell_type": "code",
   "execution_count": 21,
   "metadata": {
    "collapsed": false
   },
   "outputs": [
    {
     "data": {
      "text/plain": [
       "Index([u'MONTH', u'DAY', u'DAY_OF_WEEK', u'AIRLINE', u'FLIGHT_NUMBER',\n",
       "       u'TAIL_NUMBER', u'ORIGIN_AIRPORT', u'DESTINATION_AIRPORT',\n",
       "       u'SCHEDULED_DEPARTURE', u'DEPARTURE_TIME', u'DEPARTURE_DELAY',\n",
       "       u'TAXI_OUT', u'WHEELS_OFF', u'SCHEDULED_TIME', u'ELAPSED_TIME',\n",
       "       u'AIR_TIME', u'DISTANCE', u'WHEELS_ON', u'TAXI_IN',\n",
       "       u'SCHEDULED_ARRIVAL', u'ARRIVAL_TIME', u'ARRIVAL_DELAY', u'DIVERTED',\n",
       "       u'CANCELLED'],\n",
       "      dtype='object')"
      ]
     },
     "execution_count": 21,
     "metadata": {},
     "output_type": "execute_result"
    }
   ],
   "source": [
    "df.columns"
   ]
  },
  {
   "cell_type": "markdown",
   "metadata": {},
   "source": [
    "<h3>Previous ARRIVAL_DELAY and DEPARTURE_DELAY</h3>"
   ]
  },
  {
   "cell_type": "markdown",
   "metadata": {},
   "source": [
    "One new feature that may help predict the arrival and departure delay of a particular flight is the arrival and departure delay of the previous flight that the particular plane made. Each plane is, fortunately, identified by its tail number. Two new columns, PREVIOUS_ARRIVAL_DELAY and PREVIOUS_DEPARTURE_DELAY, can be added to this dataframe."
   ]
  },
  {
   "cell_type": "code",
   "execution_count": 22,
   "metadata": {
    "collapsed": true
   },
   "outputs": [],
   "source": [
    "prev = {i:{'arrival':0, 'departure':0} for i in df['TAIL_NUMBER'].unique()}\n",
    "prev_arr = []\n",
    "prev_dep = []\n",
    "for i in df[['TAIL_NUMBER', 'ARRIVAL_DELAY', 'DEPARTURE_DELAY']].values:\n",
    "    prev_arr.append(prev[i[0]]['arrival'])\n",
    "    prev_dep.append(prev[i[0]]['departure'])\n",
    "    prev[i[0]]['arrival'] = i[1]\n",
    "    prev[i[0]]['departure'] = i[2]\n",
    "df['PREVIOUS_ARRIVAL_DELAY'] = prev_arr\n",
    "df['PREVIOUS_DEPARTURE_DELAY'] = prev_dep"
   ]
  },
  {
   "cell_type": "markdown",
   "metadata": {},
   "source": [
    "<h3>FLIGHT_NUMBER and TAIL_NUMBER</h3>"
   ]
  },
  {
   "cell_type": "markdown",
   "metadata": {},
   "source": [
    "There are nearly 7000 unique flight numbers and nearly 5000 unique tail numbers. Dummifying these columns would add nearly 12000 features to this dataframe, which might make it too big for the computer's RAM. Therefore, those columns will be discarded."
   ]
  },
  {
   "cell_type": "code",
   "execution_count": 23,
   "metadata": {
    "collapsed": false
   },
   "outputs": [
    {
     "data": {
      "text/plain": [
       "0          N407AS\n",
       "1          N3KUAA\n",
       "2          N171US\n",
       "3          N3HYAA\n",
       "4          N527AS\n",
       "5          N3730B\n",
       "6          N635NK\n",
       "7          N584UW\n",
       "8          N3LAAA\n",
       "9          N826DN\n",
       "10         N958DN\n",
       "11         N853AA\n",
       "12         N547US\n",
       "13         N3751B\n",
       "14         N651DL\n",
       "15         N309AS\n",
       "16         N3743H\n",
       "17         N78448\n",
       "18         N413AS\n",
       "19         N806DN\n",
       "20         N525NK\n",
       "21         N3GXAA\n",
       "22         N632NK\n",
       "23         N3CTAA\n",
       "24         N671DN\n",
       "25         N76517\n",
       "26         N457AS\n",
       "27         N528NK\n",
       "28         N571UW\n",
       "29         N3HRAA\n",
       "            ...  \n",
       "5819049    N866AA\n",
       "5819050    N569JB\n",
       "5819051    N477AS\n",
       "5819052    N586AS\n",
       "5819053    N768AS\n",
       "5819054    N431AS\n",
       "5819055    N570AS\n",
       "5819056    N536AS\n",
       "5819057    N661NK\n",
       "5819058    N332NW\n",
       "5819059    N209FR\n",
       "5819060    N701FR\n",
       "5819061    N925FR\n",
       "5819062    N949FR\n",
       "5819063    N17245\n",
       "5819064    N66848\n",
       "5819065    N33209\n",
       "5819066    N497UA\n",
       "5819067    N3DLAA\n",
       "5819068    N3LYAA\n",
       "5819069    N948JB\n",
       "5819070    N584JB\n",
       "5819071    N589JB\n",
       "5819072    N607JB\n",
       "5819073    N655JB\n",
       "5819074    N657JB\n",
       "5819075    N828JB\n",
       "5819076    N913JB\n",
       "5819077    N527JB\n",
       "5819078    N534JB\n",
       "Name: TAIL_NUMBER, dtype: object"
      ]
     },
     "execution_count": 23,
     "metadata": {},
     "output_type": "execute_result"
    }
   ],
   "source": [
    "df.pop('FLIGHT_NUMBER')\n",
    "df.pop('TAIL_NUMBER')"
   ]
  },
  {
   "cell_type": "markdown",
   "metadata": {},
   "source": [
    "<h3>DEPARTURE_TIME and ARRIVAL_TIME</h3>"
   ]
  },
  {
   "cell_type": "markdown",
   "metadata": {},
   "source": [
    "These two columns are redundant because this dataframe already has SCHEDULED_DEPARTURE, SCHEDULED_ARRIVAL, DEPARTURE_DELAY, and ARRIVAL_DELAY. SCHEDULED_DEPARTURE + DEPARTURE_DELAY = DEPARTURE_TIME and SCHEDULED_ARRIVAL + ARRIVAL_DELAY = ARRIVAL_TIME. Therefore, DEPARTURE_TIME and ARRIVAL_TIME are not necessary and can be discarded."
   ]
  },
  {
   "cell_type": "code",
   "execution_count": 24,
   "metadata": {
    "collapsed": false
   },
   "outputs": [
    {
     "data": {
      "text/plain": [
       "0           408.0\n",
       "1           741.0\n",
       "2           811.0\n",
       "3           756.0\n",
       "4           259.0\n",
       "5           610.0\n",
       "6           509.0\n",
       "7           753.0\n",
       "8           532.0\n",
       "9           656.0\n",
       "10          453.0\n",
       "11          753.0\n",
       "12          605.0\n",
       "13          553.0\n",
       "14          557.0\n",
       "15          455.0\n",
       "16          451.0\n",
       "17          619.0\n",
       "18          507.0\n",
       "19          551.0\n",
       "20          543.0\n",
       "21          939.0\n",
       "22          529.0\n",
       "23          839.0\n",
       "24          545.0\n",
       "25          607.0\n",
       "26          545.0\n",
       "27          607.0\n",
       "28          754.0\n",
       "29          709.0\n",
       "            ...  \n",
       "5819049     731.0\n",
       "5819050     607.0\n",
       "5819051     535.0\n",
       "5819052     353.0\n",
       "5819053     224.0\n",
       "5819054     400.0\n",
       "5819055     225.0\n",
       "5819056     712.0\n",
       "5819057     346.0\n",
       "5819058     512.0\n",
       "5819059     518.0\n",
       "5819060     504.0\n",
       "5819061     446.0\n",
       "5819062     509.0\n",
       "5819063     600.0\n",
       "5819064     652.0\n",
       "5819065     545.0\n",
       "5819066     718.0\n",
       "5819067     525.0\n",
       "5819068     544.0\n",
       "5819069    1020.0\n",
       "5819070     744.0\n",
       "5819071     625.0\n",
       "5819072     519.0\n",
       "5819073     549.0\n",
       "5819074     753.0\n",
       "5819075     430.0\n",
       "5819076     432.0\n",
       "5819077     330.0\n",
       "5819078     442.0\n",
       "Name: ARRIVAL_TIME, dtype: float64"
      ]
     },
     "execution_count": 24,
     "metadata": {},
     "output_type": "execute_result"
    }
   ],
   "source": [
    "df.pop('DEPARTURE_TIME')\n",
    "df.pop('ARRIVAL_TIME')"
   ]
  },
  {
   "cell_type": "markdown",
   "metadata": {},
   "source": [
    "<h3>Converting SCHEDULED_DEPARTURE, SCHEDULED_ARRIVAL, WHEELS_OFF, and WHEELS_ON to minutes</h3>"
   ]
  },
  {
   "cell_type": "markdown",
   "metadata": {},
   "source": [
    "The SCHEDULED_DEPARTURE, SCHEDULED_ARRIVAL, WHEELS_OFF, and WHEELS_ON columns are in the form HHMM, where 0 <= HH <= 23 and 0 <= MM < 60. That means that they're not truly indicative of how far into the day they are. They're essentially strings. Here, I convert each of these columns into minutes. For example, 1230 would be converted to 12\\*60 + 30 = 750, 845 would be converted to 8\\*60 + 45 = 525, and so on."
   ]
  },
  {
   "cell_type": "code",
   "execution_count": 25,
   "metadata": {
    "collapsed": false
   },
   "outputs": [
    {
     "data": {
      "image/png": "[encoded data removed]",
      "text/plain": [
       "<matplotlib.figure.Figure at 0x19106a450>"
      ]
     },
     "metadata": {},
     "output_type": "display_data"
    },
    {
     "data": {
      "image/png": "[encoded data removed]",
      "text/plain": [
       "<matplotlib.figure.Figure at 0x18defc190>"
      ]
     },
     "metadata": {},
     "output_type": "display_data"
    },
    {
     "data": {
      "image/png": "[encoded data removed]",
      "text/plain": [
       "<matplotlib.figure.Figure at 0x18d239c90>"
      ]
     },
     "metadata": {},
     "output_type": "display_data"
    },
    {
     "data": {
      "image/png": "[encoded data removed]",
      "text/plain": [
       "<matplotlib.figure.Figure at 0x18d91b6d0>"
      ]
     },
     "metadata": {},
     "output_type": "display_data"
    }
   ],
   "source": [
    "for col in ['SCHEDULED_DEPARTURE', 'SCHEDULED_ARRIVAL', 'WHEELS_OFF', 'WHEELS_ON']:\n",
    "    df[col] = df[col].map(lambda x : 60*(x/100) + (x % 100))\n",
    "    plt.figure()\n",
    "    plt.title(col)\n",
    "    plt.hist(df[col], bins=1440)"
   ]
  },
  {
   "cell_type": "markdown",
   "metadata": {},
   "source": [
    "<h3>DIVERTED and CANCELLED</h3>"
   ]
  },
  {
   "cell_type": "markdown",
   "metadata": {},
   "source": [
    "Because DIVERTED and CANCELLED each only have one unique value, there is no need to retain those two columns."
   ]
  },
  {
   "cell_type": "code",
   "execution_count": 26,
   "metadata": {
    "collapsed": false
   },
   "outputs": [
    {
     "data": {
      "text/plain": [
       "0          0\n",
       "1          0\n",
       "2          0\n",
       "3          0\n",
       "4          0\n",
       "5          0\n",
       "6          0\n",
       "7          0\n",
       "8          0\n",
       "9          0\n",
       "10         0\n",
       "11         0\n",
       "12         0\n",
       "13         0\n",
       "14         0\n",
       "15         0\n",
       "16         0\n",
       "17         0\n",
       "18         0\n",
       "19         0\n",
       "20         0\n",
       "21         0\n",
       "22         0\n",
       "23         0\n",
       "24         0\n",
       "25         0\n",
       "26         0\n",
       "27         0\n",
       "28         0\n",
       "29         0\n",
       "          ..\n",
       "5819049    0\n",
       "5819050    0\n",
       "5819051    0\n",
       "5819052    0\n",
       "5819053    0\n",
       "5819054    0\n",
       "5819055    0\n",
       "5819056    0\n",
       "5819057    0\n",
       "5819058    0\n",
       "5819059    0\n",
       "5819060    0\n",
       "5819061    0\n",
       "5819062    0\n",
       "5819063    0\n",
       "5819064    0\n",
       "5819065    0\n",
       "5819066    0\n",
       "5819067    0\n",
       "5819068    0\n",
       "5819069    0\n",
       "5819070    0\n",
       "5819071    0\n",
       "5819072    0\n",
       "5819073    0\n",
       "5819074    0\n",
       "5819075    0\n",
       "5819076    0\n",
       "5819077    0\n",
       "5819078    0\n",
       "Name: CANCELLED, dtype: int64"
      ]
     },
     "execution_count": 26,
     "metadata": {},
     "output_type": "execute_result"
    }
   ],
   "source": [
    "df.pop('DIVERTED')\n",
    "df.pop('CANCELLED')"
   ]
  },
  {
   "cell_type": "markdown",
   "metadata": {},
   "source": [
    "<h3>Dummifying</h3>"
   ]
  },
  {
   "cell_type": "code",
   "execution_count": 27,
   "metadata": {
    "collapsed": false
   },
   "outputs": [
    {
     "name": "stdout",
     "output_type": "stream",
     "text": [
      "dummifying MONTH\n",
      "dummifying DAY\n",
      "dummifying DAY_OF_WEEK\n",
      "dummifying AIRLINE\n",
      "DONE\n"
     ]
    }
   ],
   "source": [
    "dums = ['MONTH', 'DAY', 'DAY_OF_WEEK', 'AIRLINE']\n",
    "\n",
    "for i in dums:\n",
    "    print \"dummifying\", i\n",
    "    p = df.pop(i)\n",
    "    dummies = pd.get_dummies(p, prefix=i)\n",
    "    df = pd.concat([df, dummies[dummies.columns[1:]]], axis=1)\n",
    "print \"DONE\""
   ]
  },
  {
   "cell_type": "code",
   "execution_count": 28,
   "metadata": {
    "collapsed": false
   },
   "outputs": [
    {
     "data": {
      "text/plain": [
       "(5714008, 76)"
      ]
     },
     "execution_count": 28,
     "metadata": {},
     "output_type": "execute_result"
    }
   ],
   "source": [
    "df.shape"
   ]
  },
  {
   "cell_type": "code",
   "execution_count": 29,
   "metadata": {
    "collapsed": false
   },
   "outputs": [
    {
     "name": "stdout",
     "output_type": "stream",
     "text": [
      "<class 'pandas.core.frame.DataFrame'>\n",
      "Int64Index: 5714008 entries, 0 to 5819078\n",
      "Data columns (total 76 columns):\n",
      "ORIGIN_AIRPORT              object\n",
      "DESTINATION_AIRPORT         object\n",
      "SCHEDULED_DEPARTURE         int64\n",
      "DEPARTURE_DELAY             float64\n",
      "TAXI_OUT                    float64\n",
      "WHEELS_OFF                  float64\n",
      "SCHEDULED_TIME              float64\n",
      "ELAPSED_TIME                float64\n",
      "AIR_TIME                    float64\n",
      "DISTANCE                    int64\n",
      "WHEELS_ON                   float64\n",
      "TAXI_IN                     float64\n",
      "SCHEDULED_ARRIVAL           int64\n",
      "ARRIVAL_DELAY               float64\n",
      "PREVIOUS_ARRIVAL_DELAY      float64\n",
      "PREVIOUS_DEPARTURE_DELAY    float64\n",
      "MONTH_2                     uint8\n",
      "MONTH_3                     uint8\n",
      "MONTH_4                     uint8\n",
      "MONTH_5                     uint8\n",
      "MONTH_6                     uint8\n",
      "MONTH_7                     uint8\n",
      "MONTH_8                     uint8\n",
      "MONTH_9                     uint8\n",
      "MONTH_10                    uint8\n",
      "MONTH_11                    uint8\n",
      "MONTH_12                    uint8\n",
      "DAY_2                       uint8\n",
      "DAY_3                       uint8\n",
      "DAY_4                       uint8\n",
      "DAY_5                       uint8\n",
      "DAY_6                       uint8\n",
      "DAY_7                       uint8\n",
      "DAY_8                       uint8\n",
      "DAY_9                       uint8\n",
      "DAY_10                      uint8\n",
      "DAY_11                      uint8\n",
      "DAY_12                      uint8\n",
      "DAY_13                      uint8\n",
      "DAY_14                      uint8\n",
      "DAY_15                      uint8\n",
      "DAY_16                      uint8\n",
      "DAY_17                      uint8\n",
      "DAY_18                      uint8\n",
      "DAY_19                      uint8\n",
      "DAY_20                      uint8\n",
      "DAY_21                      uint8\n",
      "DAY_22                      uint8\n",
      "DAY_23                      uint8\n",
      "DAY_24                      uint8\n",
      "DAY_25                      uint8\n",
      "DAY_26                      uint8\n",
      "DAY_27                      uint8\n",
      "DAY_28                      uint8\n",
      "DAY_29                      uint8\n",
      "DAY_30                      uint8\n",
      "DAY_31                      uint8\n",
      "DAY_OF_WEEK_2               uint8\n",
      "DAY_OF_WEEK_3               uint8\n",
      "DAY_OF_WEEK_4               uint8\n",
      "DAY_OF_WEEK_5               uint8\n",
      "DAY_OF_WEEK_6               uint8\n",
      "DAY_OF_WEEK_7               uint8\n",
      "AIRLINE_AS                  uint8\n",
      "AIRLINE_B6                  uint8\n",
      "AIRLINE_DL                  uint8\n",
      "AIRLINE_EV                  uint8\n",
      "AIRLINE_F9                  uint8\n",
      "AIRLINE_HA                  uint8\n",
      "AIRLINE_MQ                  uint8\n",
      "AIRLINE_NK                  uint8\n",
      "AIRLINE_OO                  uint8\n",
      "AIRLINE_UA                  uint8\n",
      "AIRLINE_US                  uint8\n",
      "AIRLINE_VX                  uint8\n",
      "AIRLINE_WN                  uint8\n",
      "dtypes: float64(11), int64(3), object(2), uint8(60)\n",
      "memory usage: 1.0+ GB\n"
     ]
    }
   ],
   "source": [
    "df.info()"
   ]
  },
  {
   "cell_type": "markdown",
   "metadata": {},
   "source": [
    "<h3>ORIGIN_AIRPORT and DESTINATION_AIRPORT</h3>"
   ]
  },
  {
   "cell_type": "markdown",
   "metadata": {},
   "source": [
    "The ORIGIN_AIRPORT and DESTINATION_AIRPORT columns cannot be dummified because there are over 600 unique values for each. Adding over 1200 new columns to the dataframe might make it too big for memory, considering it currently only has 78 columns and is over 1 GB. However, it might be useful to convert those columns into latitudes and longitudes.\n",
    "\n",
    "The 'airports.csv' has the 3-character IATA code, latitude, and longitude for over 300 airports. Upon inspecting the ORIGIN_AIRPORT and DESTINATION_AIRPORT columns, it's apparent that not every value in those two columns is an IATA code. Some of them are 5-digit IDs given to each airport by the US Department of Transportation."
   ]
  },
  {
   "cell_type": "code",
   "execution_count": 30,
   "metadata": {
    "collapsed": false
   },
   "outputs": [
    {
     "data": {
      "text/plain": [
       "array(['ANC', 'LAX', 'SFO', 'SEA', 'LAS', 'DEN', 'SLC', 'PDX', 'FAI',\n",
       "       'MSP', 'PHX', 'SJU', 'PBG', 'IAG', 'PSE', 'BQN', 'ORD', 'GEG',\n",
       "       'HNL', 'ONT', 'MCO', 'BOS', 'HIB', 'ABR', 'DFW', 'MKE', 'IAH',\n",
       "       'BNA', 'BRO', 'VPS', 'BOI', 'BJI', 'PHL', 'SBN', 'EUG', 'IAD',\n",
       "       'BUF', 'PWM', 'JFK', 'CRP', 'PIA', 'FAT', 'SMF', 'AUS', 'MCI',\n",
       "       'ATL', 'JAX', 'MFR', 'IDA', 'MSN', 'DCA', 'SAT', 'CHS', 'SBA',\n",
       "       'IND', 'CLE', 'GSP', 'BDL', 'RIC', 'BFL', 'OMA', 'RDM', 'FLL',\n",
       "       'CID', 'TPA', 'SYR', 'ROC', 'TYR', 'LAN', 'GSO', 'EWR', 'PBI',\n",
       "       'RSW', 'OAK', 'PVD', 'RNO', 'PIT', 'ABQ', 'MIA', 'BWI', 'TUL',\n",
       "       'LGA', 'LIT', 'MSY', 'OKC', 'ATW', 'PNS', 'MEM', 'TYS', 'MHT',\n",
       "       'SAV', 'CLT', 'GRB', 'ABE', 'JAN', 'OAJ', 'FAR', 'ERI', 'LEX',\n",
       "       'CWA', 'TTN', 'RDU', 'CVG', 'BHM', 'ACY', 'DTW', 'RAP', 'TUS',\n",
       "       'EAU', 'DLH', 'FSD', 'INL', 'SPI', 'CLD', 'COD', 'CMH', 'PSC',\n",
       "       'CPR', 'ACV', 'DAL', 'PAH', 'MRY', 'ESC', 'ISN', 'PSP', 'CAE',\n",
       "       'STL', 'BTV', 'MTJ', 'GCC', 'OGG', 'SJC', 'GUC', 'ORF', 'MOT',\n",
       "       'MLU', 'KOA', 'HOU', 'MOB', 'SAN', 'LAW', 'PIB', 'MGM', 'SBP',\n",
       "       'COS', 'LAR', 'DRO', 'BIS', 'ITO', 'BTR', 'HLN', 'BZN', 'MDW',\n",
       "       'MDT', 'SCE', 'LIH', 'TWF', 'BPT', 'GPT', 'STC', 'HPN', 'MLB',\n",
       "       'PLN', 'CIU', 'CAK', 'DSM', 'BLI', 'SHV', 'SNA', 'ALB', 'LNK',\n",
       "       'CMI', 'GTF', 'EKO', 'LGB', 'AVL', 'HSV', 'XNA', 'SUX', 'HYS',\n",
       "       'MFE', 'ISP', 'BUR', 'DAB', 'DAY', 'LFT', 'LBE', 'ASE', 'GUM',\n",
       "       'TVC', 'ALO', 'TLH', 'ELP', 'MHK', 'IMT', 'JNU', 'JAC', 'MEI',\n",
       "       'DBQ', 'GNV', 'BRD', 'DIK', 'SDF', 'LBB', 'AVP', 'SGF', 'COU',\n",
       "       'BTM', 'ELM', 'RKS', 'PIH', 'SUN', 'LWS', 'VEL', 'STT', 'SAF',\n",
       "       'YUM', 'FCA', 'GRR', 'HDN', 'ROA', 'CHA', 'EYW', 'MYR', 'CRW',\n",
       "       'MQT', 'CHO', 'GJT', 'FWA', 'ECP', 'EVV', 'MSO', 'EGE', 'AMA',\n",
       "       'MLI', 'MBS', 'GFK', 'GRK', 'BIL', 'OTZ', 'KTN', 'STX', 'ILM',\n",
       "       'PUB', 'RHI', 'CDC', 'HRL', 'SCC', 'FNT', 'LSE', 'MMH', 'ACT',\n",
       "       'FSM', 'AGS', 'CEC', 'ICT', 'AEX', 'DHN', 'LRD', 'WRG', 'PHF',\n",
       "       'CNY', 'BRW', 'GGG', 'AZO', 'CLL', 'SRQ', 'ORH', 'FLG', 'TRI',\n",
       "       'VLD', 'SIT', 'BQK', 'BMI', 'PSG', 'FAY', 'MKG', 'CSG', 'MAF',\n",
       "       'EWN', 'OME', 'CMX', 'JMS', 'SGU', 'RST', 'GTR', 'BET', 'TOL',\n",
       "       'APN', 'SMX', 'LCH', 'RDD', 'GCK', 'DVL', 'GRI', 'ABY', 'SWF',\n",
       "       'ILG', 'JLN', 'ADK', 'UST', 'TXK', 'SPS', 'ABI', 'YAK', 'SJT',\n",
       "       'CDV', 'OTH', 'ADQ', 'PPG', 'ROW', 'HOB', 'BGM', 'BGR', 'ITH',\n",
       "       'ACK', 'MVY', 'WYS', 'DLG', 'AKN', 'GST', 'HYA', '14747', '14771',\n",
       "       '12889', '12892', '14869', '10299', '11292', '14107', '11630',\n",
       "       '10732', '14254', '10141', '10627', '11982', '12173', '13930',\n",
       "       '14683', '12266', '11618', '10721', '13487', '11884', '15919',\n",
       "       '13851', '11111', '10693', '12191', '14783', '15016', '14487',\n",
       "       '10423', '15370', '11953', '13891', '15376', '11778', '11278',\n",
       "       '14100', '13204', '15304', '11637', '14842', '10155', '11775',\n",
       "       '11298', '11057', '13931', '10821', '14122', '11049', '10990',\n",
       "       '10631', '13158', '14108', '13198', '11447', '12206', '13495',\n",
       "       '14057', '15624', '10747', '15411', '12891', '10994', '13256',\n",
       "       '10792', '14492', '12451', '13127', '10781', '14960', '12278',\n",
       "       '14685', '11995', '13485', '11977', '10257', '13796', '13232',\n",
       "       '13296', '14570', '14893', '14524', '12217', '10713', '10208',\n",
       "       '10136', '11603', '14689', '11471', '11315', '13264', '12478',\n",
       "       '14814', '11308', '11066', '12896', '10397', '14307', '11721',\n",
       "       '11140', '10185', '13277', '11203', '13342', '11433', '11697',\n",
       "       '12953', '10599', '12156', '14952', '10620', '11042', '15096',\n",
       "       '10408', '15249', '11423', '12915', '12264', '12339', '10140',\n",
       "       '13871', '14027', '13244', '11267', '11540', '14576', '10868',\n",
       "       '13486', '13476', '14489', '12945', '15607', '10529', '11986',\n",
       "       '14635', '13303', '10785', '15380', '11996', '10561', '10874',\n",
       "       '13367', '10146', '10431', '11973', '10980', '12197', '14098',\n",
       "       '12323', '10577', '11150', '10135', '11617', '13795', '13029',\n",
       "       '11003', '11146', '11577', '15356', '11259', '10279', '14321',\n",
       "       '14843', '11638', '14828', '11481', '12951', '10434', '12448',\n",
       "       '14730', '15323', '14252', '11193', '10849', '14193', '14986',\n",
       "       '11641', '12992', '13422', '11612', '11823', '11980', '13290',\n",
       "       '10158', '10685', '13377', '11109', '11076', '11122', '11865',\n",
       "       '14543', '14905', '11587', '14457', '12335', '12343', '12003',\n",
       "       '10157', '12884', '14633', '15048', '10268', '15295', '12389',\n",
       "       '11525', '14262', '12888', '12391', '11648', '14696', '12758',\n",
       "       '13830', '10469', '15412', '10731', '14679', '14831', '11413',\n",
       "       '13433', '12982', '11867', '14698', '11537', '15389', '12402',\n",
       "       '11337', '13360', '13076', '14006', '10728', '15401', '13230',\n",
       "       '12016', '11067', '11274', '11921', '12519', '11013', '10779',\n",
       "       '14150', '14794', '12511', '12177', '12523', '14908', '12007',\n",
       "       '14588', '13577', '13061', '15041', '14109', '10800', '12954',\n",
       "       '12441', '12898', '16218', '14113', '11624', '11503', '10739',\n",
       "       '14574', '14711', '12129', '15070', '14520', '13184', '11252',\n",
       "       '12280', '13241', '11898', '15024', '14674', '10551', '12819',\n",
       "       '13459', '10581', '13970', '10372', '10918', '14709', '12255',\n",
       "       '11905', '10333', '11695', '15841', '13344', '13933', '15991',\n",
       "       '10754', '14256', '12094', '13873', '11097', '10154', '10926',\n",
       "       '13964', '13541', '15027', '10170', '10165', '15497', '12265',\n",
       "       '14222', '14025', '13502'], dtype=object)"
      ]
     },
     "execution_count": 30,
     "metadata": {},
     "output_type": "execute_result"
    }
   ],
   "source": [
    "df['ORIGIN_AIRPORT'].unique()"
   ]
  },
  {
   "cell_type": "code",
   "execution_count": 31,
   "metadata": {
    "collapsed": false
   },
   "outputs": [
    {
     "data": {
      "text/plain": [
       "array(['SEA', 'PBI', 'CLT', 'MIA', 'ANC', 'MSP', 'DFW', 'ATL', 'IAH',\n",
       "       'PDX', 'MCI', 'FLL', 'ORD', 'HNL', 'PHX', 'EWR', 'JFK', 'MCO',\n",
       "       'BOS', 'BDL', 'ITO', 'SFO', 'KOA', 'OGG', 'MYR', 'DTW', 'LIH',\n",
       "       'DEN', 'SJU', 'LAX', 'BWI', 'IAD', 'BQN', 'BUF', 'LGA', 'HOU',\n",
       "       'SLC', 'PHL', 'SJC', 'OAK', 'LGB', 'TPA', 'DCA', 'TTN', 'LAS',\n",
       "       'RSW', 'BRD', 'STL', 'RKS', 'MBS', 'SNA', 'MEI', 'MDW', 'SAN',\n",
       "       'RIC', 'OTZ', 'PIT', 'JAX', 'MSY', 'ONT', 'PSP', 'BUR', 'DAL',\n",
       "       'CVG', 'SMF', 'RDU', 'BNA', 'AUS', 'DSM', 'BOI', 'ELP', 'TUS',\n",
       "       'SCC', 'HPN', 'STT', 'MDT', 'RHI', 'SBP', 'MKE', 'JNU', 'CMH',\n",
       "       'CLD', 'KTN', 'CAK', 'CLE', 'GPT', 'IND', 'SAT', 'SRQ', 'BTV',\n",
       "       'CHS', 'DAY', 'TUL', 'SAV', 'COS', 'GJT', 'BZN', 'PUB', 'HRL',\n",
       "       'HDN', 'MEM', 'GEG', 'ORH', 'SYR', 'ACY', 'LBB', 'JAC', 'BIL',\n",
       "       'EUG', 'ASE', 'TVC', 'MTJ', 'OKC', 'PVD', 'HSV', 'CDC', 'GSO',\n",
       "       'YUM', 'ABQ', 'TLH', 'EGE', 'BTR', 'MOB', 'FWA', 'BIS', 'MFR',\n",
       "       'APN', 'BHM', 'OMA', 'MMH', 'CEC', 'SBA', 'RNO', 'LAN', 'PNS',\n",
       "       'DLH', 'SDF', 'FAT', 'GRR', 'VPS', 'MFE', 'AVP', 'ROA', 'MRY',\n",
       "       'LFT', 'AGS', 'MGM', 'ROC', 'LRD', 'ISN', 'MLB', 'ORF', 'ICT',\n",
       "       'ECP', 'CRP', 'AMA', 'BPT', 'EYW', 'FSD', 'TYS', 'WRG', 'MSN',\n",
       "       'FNT', 'DIK', 'CNY', 'BRW', 'GRB', 'ATW', 'MKG', 'FLG', 'LEX',\n",
       "       'FCA', 'BTM', 'EVV', 'XNA', 'DRO', 'JMS', 'LNK', 'DBQ', 'FAR',\n",
       "       'CAE', 'MLI', 'OME', 'GSP', 'GUC', 'SGF', 'LIT', 'MOT', 'RAP',\n",
       "       'ISP', 'PWM', 'GGG', 'SBN', 'BFL', 'MHT', 'ROW', 'JAN', 'SHV',\n",
       "       'SIT', 'CMX', 'SAF', 'GRK', 'FAY', 'ILM', 'CMI', 'MAF', 'ALB',\n",
       "       'GTF', 'BMI', 'CID', 'COU', 'GNV', 'SUN', 'SPI', 'PSG', 'AVL',\n",
       "       'MHK', 'CHA', 'TOL', 'SGU', 'HLN', 'CPR', 'PIH', 'BET', 'VEL',\n",
       "       'RDM', 'HYS', 'PSC', 'COD', 'INL', 'FAI', 'GCC', 'EKO', 'BJI',\n",
       "       'IDA', 'IMT', 'RST', 'HIB', 'ABR', 'STC', 'MSO', 'ACV', 'ESC',\n",
       "       'CIU', 'SWF', 'DAB', 'TRI', 'AEX', 'AZO', 'CRW', 'STX', 'CHO',\n",
       "       'GCK', 'PLN', 'LSE', 'SMX', 'RDD', 'PHF', 'LCH', 'CLL', 'TYR',\n",
       "       'GTR', 'LAR', 'ERI', 'PAH', 'EAU', 'LBE', 'BLI', 'DVL', 'CWA',\n",
       "       'ILG', 'MLU', 'OAJ', 'ABE', 'ALO', 'ABY', 'DHN', 'TWF', 'ADK',\n",
       "       'ELM', 'VLD', 'PIB', 'SUX', 'GUM', 'SCE', 'ACT', 'UST', 'BRO',\n",
       "       'PIA', 'BQK', 'JLN', 'LAW', 'TXK', 'SPS', 'LWS', 'FSM', 'MQT',\n",
       "       'EWN', 'CSG', 'GRI', 'PBG', 'PSE', 'IAG', 'YAK', 'ABI', 'SJT',\n",
       "       'CDV', 'OTH', 'ADQ', 'PPG', 'HOB', 'GFK', 'BGM', 'BGR', 'ITH',\n",
       "       'ACK', 'MVY', 'WYS', 'DLG', 'AKN', 'GST', 'HYA', '11298', '13487',\n",
       "       '13303', '11057', '13930', '10693', '14747', '12266', '12478',\n",
       "       '14057', '10397', '13198', '12173', '11618', '13204', '12402',\n",
       "       '12758', '14771', '11292', '13830', '14107', '12982', '11697',\n",
       "       '12519', '13577', '14869', '12339', '13232', '11259', '15016',\n",
       "       '12892', '12889', '10140', '10721', '15304', '14679', '14100',\n",
       "       '10732', '10821', '14831', '14843', '14570', '12191', '11433',\n",
       "       '12264', '14893', '13796', '12953', '14122', '13495', '12451',\n",
       "       '11042', '11278', '14908', '13342', '13891', '10299', '12523',\n",
       "       '12954', '14520', '12129', '10713', '10431', '11066', '10994',\n",
       "       '10423', '10792', '14683', '10800', '10551', '11193', '14307',\n",
       "       '11540', '14635', '13851', '15376', '11884', '14492', '14027',\n",
       "       '13970', '13184', '13296', '10599', '11986', '14698', '11423',\n",
       "       '13244', '14574', '12992', '13241', '12217', '13871', '12197',\n",
       "       '11003', '15919', '14524', '14689', '10529', '14576', '11995',\n",
       "       '11267', '12819', '14633', '11996', '13256', '13158', '12448',\n",
       "       '10781', '13422', '16218', '15370', '10868', '14730', '13931',\n",
       "       '13485', '14986', '15024', '11823', '11721', '14685', '10257',\n",
       "       '12206', '12255', '12951', '14709', '14321', '12391', '14794',\n",
       "       '10874', '12278', '11638', '10372', '11122', '14457', '15096',\n",
       "       '12896', '11109', '10279', '11481', '15412', '14814', '11641',\n",
       "       '10980', '12945', '10990', '10157', '13076', '13230', '15295',\n",
       "       '10918', '13933', '11953', '10135', '14262', '11067', '13277',\n",
       "       '11603', '10561', '11612', '15624', '11977', '15380', '13367',\n",
       "       '14193', '10333', '11778', '11140', '14783', '10136', '14842',\n",
       "       '11049', '14696', '11637', '15401', '14674', '13061', '10685',\n",
       "       '11982', '10469', '11921', '14108', '11413', '12891', '11905',\n",
       "       '14960', '15411', '10155', '10747', '10728', '13290', '13433',\n",
       "       '10208', '11973', '15323', '10849', '13360', '13795', '14952',\n",
       "       '13377', '10408', '10627', '13344', '13476', '11775', '10158',\n",
       "       '11898', '13029', '15249', '11337', '12915', '15356', '13264',\n",
       "       '11252', '10185', '11624', '12323', '15841', '10785', '11146',\n",
       "       '14098', '10434', '12389', '15991', '11315', '11150', '12884',\n",
       "       '11537', '11274', '11076', '10754', '13873', '14828', '11308',\n",
       "       '12007', '10731', '14588', '15607', '10146', '15070', '13486',\n",
       "       '12003', '13127', '12177', '12441', '12094', '12156', '14113',\n",
       "       '12280', '14489', '14256', '10620', '11097', '10779', '10631',\n",
       "       '12888', '15389', '15041', '14252', '12343', '11648', '10154',\n",
       "       '12898', '12335', '11865', '10926', '11980', '13964', '11630',\n",
       "       '11013', '11587', '11111', '11695', '15027', '11203', '14905',\n",
       "       '11471', '12511', '10268', '11447', '15048', '13541', '10141',\n",
       "       '14150', '14006', '11617', '11525', '11867', '14711', '11577',\n",
       "       '12016', '14487', '10739', '14109', '10165', '14543', '10577',\n",
       "       '10170', '15497', '11503', '13459', '10581', '12265', '14254',\n",
       "       '14222', '14025', '13502', '10666'], dtype=object)"
      ]
     },
     "execution_count": 31,
     "metadata": {},
     "output_type": "execute_result"
    }
   ],
   "source": [
    "df['DESTINATION_AIRPORT'].unique()"
   ]
  },
  {
   "cell_type": "markdown",
   "metadata": {},
   "source": [
    "I managed to find two CSVs at the website of the Bureau of Transportation Statistics: one which maps BTS IDs to address strings, called <a href=\"https://www.transtats.bts.gov/Download_Lookup.asp?Lookup=L_AIRPORT_ID\">L_AIRPORT_ID</a>, and one which maps IATA codes to address strings, called <a href=\"https://www.transtats.bts.gov/Download_Lookup.asp?Lookup=L_AIRPORT\">L_AIRPORT</a>."
   ]
  },
  {
   "cell_type": "markdown",
   "metadata": {},
   "source": [
    "A preview of L_AIRPORT_ID is shown below:"
   ]
  },
  {
   "cell_type": "code",
   "execution_count": 32,
   "metadata": {
    "collapsed": false
   },
   "outputs": [
    {
     "data": {
      "text/html": [
       "<div>\n",
       "<table border=\"1\" class=\"dataframe\">\n",
       "  <thead>\n",
       "    <tr style=\"text-align: right;\">\n",
       "      <th></th>\n",
       "      <th>Code</th>\n",
       "      <th>Description</th>\n",
       "    </tr>\n",
       "  </thead>\n",
       "  <tbody>\n",
       "    <tr>\n",
       "      <th>4989</th>\n",
       "      <td>15222</td>\n",
       "      <td>Tidjikja, Mauritania: Tidjikja Airport</td>\n",
       "    </tr>\n",
       "    <tr>\n",
       "      <th>4737</th>\n",
       "      <td>14963</td>\n",
       "      <td>San Pedro, Cote d'Ivoire: San Pedro Airport</td>\n",
       "    </tr>\n",
       "    <tr>\n",
       "      <th>2921</th>\n",
       "      <td>13052</td>\n",
       "      <td>La Porte, IN: La Porte Municipal</td>\n",
       "    </tr>\n",
       "    <tr>\n",
       "      <th>6349</th>\n",
       "      <td>16688</td>\n",
       "      <td>Eastman, GA: Heart of Georgia Regional</td>\n",
       "    </tr>\n",
       "    <tr>\n",
       "      <th>5763</th>\n",
       "      <td>16070</td>\n",
       "      <td>Gillam, Canada: Gillam Airport</td>\n",
       "    </tr>\n",
       "    <tr>\n",
       "      <th>1258</th>\n",
       "      <td>11308</td>\n",
       "      <td>Dothan, AL: Dothan Regional</td>\n",
       "    </tr>\n",
       "    <tr>\n",
       "      <th>5517</th>\n",
       "      <td>15784</td>\n",
       "      <td>Walaha, Vanuatu: Walaha Airport</td>\n",
       "    </tr>\n",
       "    <tr>\n",
       "      <th>4849</th>\n",
       "      <td>15078</td>\n",
       "      <td>Sweetwater, TX: Avenger Field</td>\n",
       "    </tr>\n",
       "    <tr>\n",
       "      <th>2447</th>\n",
       "      <td>12549</td>\n",
       "      <td>Kapolei, HI: Kalaeloa</td>\n",
       "    </tr>\n",
       "    <tr>\n",
       "      <th>4869</th>\n",
       "      <td>15098</td>\n",
       "      <td>Sanya, China: Phoenix International</td>\n",
       "    </tr>\n",
       "  </tbody>\n",
       "</table>\n",
       "</div>"
      ],
      "text/plain": [
       "       Code                                  Description\n",
       "4989  15222       Tidjikja, Mauritania: Tidjikja Airport\n",
       "4737  14963  San Pedro, Cote d'Ivoire: San Pedro Airport\n",
       "2921  13052             La Porte, IN: La Porte Municipal\n",
       "6349  16688       Eastman, GA: Heart of Georgia Regional\n",
       "5763  16070               Gillam, Canada: Gillam Airport\n",
       "1258  11308                  Dothan, AL: Dothan Regional\n",
       "5517  15784              Walaha, Vanuatu: Walaha Airport\n",
       "4849  15078                Sweetwater, TX: Avenger Field\n",
       "2447  12549                        Kapolei, HI: Kalaeloa\n",
       "4869  15098          Sanya, China: Phoenix International"
      ]
     },
     "execution_count": 32,
     "metadata": {},
     "output_type": "execute_result"
    }
   ],
   "source": [
    "bts_df = pd.read_csv('L_AIRPORT_ID.csv_')\n",
    "bts_df.sample(10)"
   ]
  },
  {
   "cell_type": "markdown",
   "metadata": {},
   "source": [
    "A preview of L_AIRPORT is shown below:"
   ]
  },
  {
   "cell_type": "code",
   "execution_count": 33,
   "metadata": {
    "collapsed": false
   },
   "outputs": [
    {
     "data": {
      "text/html": [
       "<div>\n",
       "<table border=\"1\" class=\"dataframe\">\n",
       "  <thead>\n",
       "    <tr style=\"text-align: right;\">\n",
       "      <th></th>\n",
       "      <th>Code</th>\n",
       "      <th>Description</th>\n",
       "    </tr>\n",
       "  </thead>\n",
       "  <tbody>\n",
       "    <tr>\n",
       "      <th>4744</th>\n",
       "      <td>RRK</td>\n",
       "      <td>Rourkela, India: Rourkela Airport</td>\n",
       "    </tr>\n",
       "    <tr>\n",
       "      <th>66</th>\n",
       "      <td>A53</td>\n",
       "      <td>Blear Lake, AK: Blear Lake Airport</td>\n",
       "    </tr>\n",
       "    <tr>\n",
       "      <th>1131</th>\n",
       "      <td>CN7</td>\n",
       "      <td>Shoal Bay, Canada: Shoal Bay Water Aerodrome</td>\n",
       "    </tr>\n",
       "    <tr>\n",
       "      <th>466</th>\n",
       "      <td>AXC</td>\n",
       "      <td>Aramac, Australia: Aramac Airport</td>\n",
       "    </tr>\n",
       "    <tr>\n",
       "      <th>4747</th>\n",
       "      <td>RSA</td>\n",
       "      <td>Santa Rosa, Argentina: Santa Rosa Airport</td>\n",
       "    </tr>\n",
       "    <tr>\n",
       "      <th>4838</th>\n",
       "      <td>SCC</td>\n",
       "      <td>Deadhorse, AK: Deadhorse Airport</td>\n",
       "    </tr>\n",
       "    <tr>\n",
       "      <th>1380</th>\n",
       "      <td>DIO</td>\n",
       "      <td>Diomede Island, AK: Diomede Heliport</td>\n",
       "    </tr>\n",
       "    <tr>\n",
       "      <th>914</th>\n",
       "      <td>CA7</td>\n",
       "      <td>Tracy, CA: Tracy Municipal</td>\n",
       "    </tr>\n",
       "    <tr>\n",
       "      <th>5401</th>\n",
       "      <td>TMM</td>\n",
       "      <td>Tamatave, Madagascar: Toamasina</td>\n",
       "    </tr>\n",
       "    <tr>\n",
       "      <th>1224</th>\n",
       "      <td>CT6</td>\n",
       "      <td>East Haddam, CT: Goodspeed</td>\n",
       "    </tr>\n",
       "  </tbody>\n",
       "</table>\n",
       "</div>"
      ],
      "text/plain": [
       "     Code                                   Description\n",
       "4744  RRK             Rourkela, India: Rourkela Airport\n",
       "66    A53            Blear Lake, AK: Blear Lake Airport\n",
       "1131  CN7  Shoal Bay, Canada: Shoal Bay Water Aerodrome\n",
       "466   AXC             Aramac, Australia: Aramac Airport\n",
       "4747  RSA     Santa Rosa, Argentina: Santa Rosa Airport\n",
       "4838  SCC              Deadhorse, AK: Deadhorse Airport\n",
       "1380  DIO          Diomede Island, AK: Diomede Heliport\n",
       "914   CA7                    Tracy, CA: Tracy Municipal\n",
       "5401  TMM               Tamatave, Madagascar: Toamasina\n",
       "1224  CT6                    East Haddam, CT: Goodspeed"
      ]
     },
     "execution_count": 33,
     "metadata": {},
     "output_type": "execute_result"
    }
   ],
   "source": [
    "iata_df = pd.read_csv('L_AIRPORT.csv_')\n",
    "iata_df.sample(10)"
   ]
  },
  {
   "cell_type": "code",
   "execution_count": 34,
   "metadata": {
    "collapsed": true
   },
   "outputs": [],
   "source": [
    "bts_dict = {str(i[0]):i[1] for i in zip(bts_df['Code'], bts_df['Description'])}\n",
    "iata_dict = {i[1]:i[0] for i in zip(iata_df['Code'], iata_df['Description'])}"
   ]
  },
  {
   "cell_type": "markdown",
   "metadata": {},
   "source": [
    "Finally, I built a dictionary from 'airports.csv' mapping IATA code to latitude and longitude."
   ]
  },
  {
   "cell_type": "code",
   "execution_count": 35,
   "metadata": {
    "collapsed": true
   },
   "outputs": [],
   "source": [
    "airports = pd.read_csv('airports.csv')"
   ]
  },
  {
   "cell_type": "code",
   "execution_count": 36,
   "metadata": {
    "collapsed": true
   },
   "outputs": [],
   "source": [
    "airport_dict = {i[0]:{'latitude':i[1], 'longitude':i[2]} for i in airports[['IATA_CODE', 'LATITUDE', 'LONGITUDE']].values}"
   ]
  },
  {
   "cell_type": "code",
   "execution_count": 37,
   "metadata": {
    "collapsed": false
   },
   "outputs": [
    {
     "name": "stdout",
     "output_type": "stream",
     "text": [
      "IATA_CODE 0\n",
      "AIRPORT 0\n",
      "CITY 0\n",
      "STATE 0\n",
      "COUNTRY 0\n",
      "LATITUDE 3\n",
      "LONGITUDE 3\n"
     ]
    }
   ],
   "source": [
    "for col in airports.columns:\n",
    "    print col, pd.isnull(airports[col]).sum()"
   ]
  },
  {
   "cell_type": "markdown",
   "metadata": {},
   "source": [
    "There are three airports whose latitudes and longitudes (presumably) are NaNs. They are:"
   ]
  },
  {
   "cell_type": "code",
   "execution_count": 38,
   "metadata": {
    "collapsed": false
   },
   "outputs": [
    {
     "data": {
      "text/html": [
       "<div>\n",
       "<table border=\"1\" class=\"dataframe\">\n",
       "  <thead>\n",
       "    <tr style=\"text-align: right;\">\n",
       "      <th></th>\n",
       "      <th>IATA_CODE</th>\n",
       "      <th>AIRPORT</th>\n",
       "      <th>CITY</th>\n",
       "      <th>STATE</th>\n",
       "      <th>COUNTRY</th>\n",
       "      <th>LATITUDE</th>\n",
       "      <th>LONGITUDE</th>\n",
       "    </tr>\n",
       "  </thead>\n",
       "  <tbody>\n",
       "    <tr>\n",
       "      <th>96</th>\n",
       "      <td>ECP</td>\n",
       "      <td>Northwest Florida Beaches International Airport</td>\n",
       "      <td>Panama City</td>\n",
       "      <td>FL</td>\n",
       "      <td>USA</td>\n",
       "      <td>NaN</td>\n",
       "      <td>NaN</td>\n",
       "    </tr>\n",
       "    <tr>\n",
       "      <th>234</th>\n",
       "      <td>PBG</td>\n",
       "      <td>Plattsburgh International Airport</td>\n",
       "      <td>Plattsburgh</td>\n",
       "      <td>NY</td>\n",
       "      <td>USA</td>\n",
       "      <td>NaN</td>\n",
       "      <td>NaN</td>\n",
       "    </tr>\n",
       "    <tr>\n",
       "      <th>313</th>\n",
       "      <td>UST</td>\n",
       "      <td>Northeast Florida Regional Airport (St. August...</td>\n",
       "      <td>St. Augustine</td>\n",
       "      <td>FL</td>\n",
       "      <td>USA</td>\n",
       "      <td>NaN</td>\n",
       "      <td>NaN</td>\n",
       "    </tr>\n",
       "  </tbody>\n",
       "</table>\n",
       "</div>"
      ],
      "text/plain": [
       "    IATA_CODE                                            AIRPORT  \\\n",
       "96        ECP    Northwest Florida Beaches International Airport   \n",
       "234       PBG                  Plattsburgh International Airport   \n",
       "313       UST  Northeast Florida Regional Airport (St. August...   \n",
       "\n",
       "              CITY STATE COUNTRY  LATITUDE  LONGITUDE  \n",
       "96     Panama City    FL     USA       NaN        NaN  \n",
       "234    Plattsburgh    NY     USA       NaN        NaN  \n",
       "313  St. Augustine    FL     USA       NaN        NaN  "
      ]
     },
     "execution_count": 38,
     "metadata": {},
     "output_type": "execute_result"
    }
   ],
   "source": [
    "airports[pd.isnull(airports['LATITUDE']) == True]"
   ]
  },
  {
   "cell_type": "code",
   "execution_count": 39,
   "metadata": {
    "collapsed": false
   },
   "outputs": [
    {
     "data": {
      "text/html": [
       "<div>\n",
       "<table border=\"1\" class=\"dataframe\">\n",
       "  <thead>\n",
       "    <tr style=\"text-align: right;\">\n",
       "      <th></th>\n",
       "      <th>IATA_CODE</th>\n",
       "      <th>AIRPORT</th>\n",
       "      <th>CITY</th>\n",
       "      <th>STATE</th>\n",
       "      <th>COUNTRY</th>\n",
       "      <th>LATITUDE</th>\n",
       "      <th>LONGITUDE</th>\n",
       "    </tr>\n",
       "  </thead>\n",
       "  <tbody>\n",
       "    <tr>\n",
       "      <th>96</th>\n",
       "      <td>ECP</td>\n",
       "      <td>Northwest Florida Beaches International Airport</td>\n",
       "      <td>Panama City</td>\n",
       "      <td>FL</td>\n",
       "      <td>USA</td>\n",
       "      <td>NaN</td>\n",
       "      <td>NaN</td>\n",
       "    </tr>\n",
       "    <tr>\n",
       "      <th>234</th>\n",
       "      <td>PBG</td>\n",
       "      <td>Plattsburgh International Airport</td>\n",
       "      <td>Plattsburgh</td>\n",
       "      <td>NY</td>\n",
       "      <td>USA</td>\n",
       "      <td>NaN</td>\n",
       "      <td>NaN</td>\n",
       "    </tr>\n",
       "    <tr>\n",
       "      <th>313</th>\n",
       "      <td>UST</td>\n",
       "      <td>Northeast Florida Regional Airport (St. August...</td>\n",
       "      <td>St. Augustine</td>\n",
       "      <td>FL</td>\n",
       "      <td>USA</td>\n",
       "      <td>NaN</td>\n",
       "      <td>NaN</td>\n",
       "    </tr>\n",
       "  </tbody>\n",
       "</table>\n",
       "</div>"
      ],
      "text/plain": [
       "    IATA_CODE                                            AIRPORT  \\\n",
       "96        ECP    Northwest Florida Beaches International Airport   \n",
       "234       PBG                  Plattsburgh International Airport   \n",
       "313       UST  Northeast Florida Regional Airport (St. August...   \n",
       "\n",
       "              CITY STATE COUNTRY  LATITUDE  LONGITUDE  \n",
       "96     Panama City    FL     USA       NaN        NaN  \n",
       "234    Plattsburgh    NY     USA       NaN        NaN  \n",
       "313  St. Augustine    FL     USA       NaN        NaN  "
      ]
     },
     "execution_count": 39,
     "metadata": {},
     "output_type": "execute_result"
    }
   ],
   "source": [
    "airports[pd.isnull(airports['LONGITUDE']) == True]"
   ]
  },
  {
   "cell_type": "markdown",
   "metadata": {},
   "source": [
    "I looked up the coordinates of these three airports on Wikipedia and replaced them in airport_dict."
   ]
  },
  {
   "cell_type": "code",
   "execution_count": 40,
   "metadata": {
    "collapsed": true
   },
   "outputs": [],
   "source": [
    "airport_dict['ECP'] = {'latitude':30.358333, 'longitude':-85.795556}\n",
    "airport_dict['UST'] = {'latitude':29.95925, 'longitude':-81.339722}\n",
    "airport_dict['PBG'] = {'latitude':44.650833, 'longitude':-73.468056}"
   ]
  },
  {
   "cell_type": "markdown",
   "metadata": {},
   "source": [
    "Since the goal is to ultimately remove the ORIGIN_AIRPORT and DEPARTURE_AIRPORT columns, I pop them off the dataframe."
   ]
  },
  {
   "cell_type": "code",
   "execution_count": 41,
   "metadata": {
    "collapsed": true
   },
   "outputs": [],
   "source": [
    "origin_airport = df.pop('ORIGIN_AIRPORT')\n",
    "destination_airport = df.pop('DESTINATION_AIRPORT')"
   ]
  },
  {
   "cell_type": "markdown",
   "metadata": {},
   "source": [
    "Let's first make sure that every IATA code in both of those columns is in airport_dict:"
   ]
  },
  {
   "cell_type": "code",
   "execution_count": 42,
   "metadata": {
    "collapsed": false
   },
   "outputs": [
    {
     "data": {
      "text/plain": [
       "set()"
      ]
     },
     "execution_count": 42,
     "metadata": {},
     "output_type": "execute_result"
    }
   ],
   "source": [
    "set([i for i in origin_airport if len(i) == 3 and i not in airport_dict])"
   ]
  },
  {
   "cell_type": "code",
   "execution_count": 43,
   "metadata": {
    "collapsed": false
   },
   "outputs": [
    {
     "data": {
      "text/plain": [
       "set()"
      ]
     },
     "execution_count": 43,
     "metadata": {},
     "output_type": "execute_result"
    }
   ],
   "source": [
    "set([i for i in destination_airport if len(i) == 3 and i not in airport_dict])"
   ]
  },
  {
   "cell_type": "markdown",
   "metadata": {},
   "source": [
    "Now let's make sure that every BTS ID in both columns is in bts_dict:"
   ]
  },
  {
   "cell_type": "code",
   "execution_count": 44,
   "metadata": {
    "collapsed": false
   },
   "outputs": [
    {
     "data": {
      "text/plain": [
       "set()"
      ]
     },
     "execution_count": 44,
     "metadata": {},
     "output_type": "execute_result"
    }
   ],
   "source": [
    "set([i for i in origin_airport if len(i) == 5 and i not in bts_dict])"
   ]
  },
  {
   "cell_type": "code",
   "execution_count": 45,
   "metadata": {
    "collapsed": false
   },
   "outputs": [
    {
     "data": {
      "text/plain": [
       "set()"
      ]
     },
     "execution_count": 45,
     "metadata": {},
     "output_type": "execute_result"
    }
   ],
   "source": [
    "set([i for i in destination_airport if len(i) == 5 and i not in bts_dict])"
   ]
  },
  {
   "cell_type": "markdown",
   "metadata": {},
   "source": [
    "Now let's make sure that every BTS ID maps to a key in iata_dict"
   ]
  },
  {
   "cell_type": "code",
   "execution_count": 46,
   "metadata": {
    "collapsed": false
   },
   "outputs": [
    {
     "data": {
      "text/plain": [
       "set()"
      ]
     },
     "execution_count": 46,
     "metadata": {},
     "output_type": "execute_result"
    }
   ],
   "source": [
    "set([i for i in origin_airport if len(i) == 5 and bts_dict[i] not in iata_dict])"
   ]
  },
  {
   "cell_type": "code",
   "execution_count": 47,
   "metadata": {
    "collapsed": false
   },
   "outputs": [
    {
     "data": {
      "text/plain": [
       "set()"
      ]
     },
     "execution_count": 47,
     "metadata": {},
     "output_type": "execute_result"
    }
   ],
   "source": [
    "set([i for i in destination_airport if len(i) == 5 and bts_dict[i] not in iata_dict])"
   ]
  },
  {
   "cell_type": "markdown",
   "metadata": {},
   "source": [
    "Finally, let's make sure that every BTS ID maps to an IATA code in airport_dict:"
   ]
  },
  {
   "cell_type": "code",
   "execution_count": 48,
   "metadata": {
    "collapsed": false
   },
   "outputs": [
    {
     "data": {
      "text/plain": [
       "{'10423'}"
      ]
     },
     "execution_count": 48,
     "metadata": {},
     "output_type": "execute_result"
    }
   ],
   "source": [
    "set([i for i in origin_airport if len(i) == 5 and iata_dict[bts_dict[i]] not in airport_dict])"
   ]
  },
  {
   "cell_type": "code",
   "execution_count": 49,
   "metadata": {
    "collapsed": false
   },
   "outputs": [
    {
     "data": {
      "text/plain": [
       "{'10423'}"
      ]
     },
     "execution_count": 49,
     "metadata": {},
     "output_type": "execute_result"
    }
   ],
   "source": [
    "set([i for i in destination_airport if len(i) == 5 and iata_dict[bts_dict[i]] not in airport_dict])"
   ]
  },
  {
   "cell_type": "markdown",
   "metadata": {},
   "source": [
    "So 10423 maps to an IATA that is not in airport_dict. Upon closer inspection, we find that this BTS ID maps to Austin Bergstrom International Airport, which has the IATA code 'BSM' in iata_dict."
   ]
  },
  {
   "cell_type": "code",
   "execution_count": 50,
   "metadata": {
    "collapsed": false
   },
   "outputs": [
    {
     "name": "stdout",
     "output_type": "stream",
     "text": [
      "Austin, TX: Austin - Bergstrom International BSM\n"
     ]
    }
   ],
   "source": [
    "print bts_dict['10423'], iata_dict[bts_dict['10423']]"
   ]
  },
  {
   "cell_type": "markdown",
   "metadata": {},
   "source": [
    "It turns out that BSM was the old IATA code for Bergstrom Airport, which now has the IATA code 'AUS'. That new IATA code, it turns out, is in airport_dict."
   ]
  },
  {
   "cell_type": "code",
   "execution_count": 51,
   "metadata": {
    "collapsed": false
   },
   "outputs": [
    {
     "data": {
      "text/plain": [
       "True"
      ]
     },
     "execution_count": 51,
     "metadata": {},
     "output_type": "execute_result"
    }
   ],
   "source": [
    "'AUS' in airport_dict"
   ]
  },
  {
   "cell_type": "markdown",
   "metadata": {},
   "source": [
    "All we need to do now is update iata_dict:"
   ]
  },
  {
   "cell_type": "code",
   "execution_count": 52,
   "metadata": {
    "collapsed": true
   },
   "outputs": [],
   "source": [
    "iata_dict[bts_dict['10423']] = 'AUS'"
   ]
  },
  {
   "cell_type": "markdown",
   "metadata": {},
   "source": [
    "I convert the 5-digit BTS IDs in both columns to IATA codes..."
   ]
  },
  {
   "cell_type": "code",
   "execution_count": 53,
   "metadata": {
    "collapsed": false
   },
   "outputs": [],
   "source": [
    "origin_airport = origin_airport.map(lambda x : x if x in airport_dict else iata_dict[bts_dict[str(x)]])\n",
    "destination_airport = destination_airport.map(lambda x : x if x in airport_dict else iata_dict[bts_dict[str(x)]])"
   ]
  },
  {
   "cell_type": "code",
   "execution_count": 54,
   "metadata": {
    "collapsed": false
   },
   "outputs": [],
   "source": [
    "df['ORIGIN_LATITUDE'] = origin_airport.map(lambda x : airport_dict[x]['latitude'])\n",
    "df['ORIGIN_LONGITUDE'] = origin_airport.map(lambda x : airport_dict[x]['longitude'])\n",
    "df['DESTINATION_LATITUDE'] = destination_airport.map(lambda x : airport_dict[x]['latitude'])\n",
    "df['DESTINATION_LONGITUDE'] = destination_airport.map(lambda x : airport_dict[x]['longitude'])"
   ]
  },
  {
   "cell_type": "code",
   "execution_count": 55,
   "metadata": {
    "collapsed": false
   },
   "outputs": [
    {
     "data": {
      "text/plain": [
       "(5714008, 78)"
      ]
     },
     "execution_count": 55,
     "metadata": {},
     "output_type": "execute_result"
    }
   ],
   "source": [
    "df.shape"
   ]
  },
  {
   "cell_type": "markdown",
   "metadata": {},
   "source": [
    "The preprocessing is complete, and we have a dataframe with 78 features. All we have to do now is save it."
   ]
  },
  {
   "cell_type": "markdown",
   "metadata": {},
   "source": [
    "<h1>Saving to CSV</h1>"
   ]
  },
  {
   "cell_type": "code",
   "execution_count": 56,
   "metadata": {
    "collapsed": true
   },
   "outputs": [],
   "source": [
    "df.to_csv('finaldf.csv')"
   ]
  },
  {
   "cell_type": "code",
   "execution_count": null,
   "metadata": {
    "collapsed": true
   },
   "outputs": [],
   "source": []
  }
 ],
 "metadata": {
  "kernelspec": {
   "display_name": "Python 2",
   "language": "python",
   "name": "python2"
  },
  "language_info": {
   "codemirror_mode": {
    "name": "ipython",
    "version": 2
   },
   "file_extension": ".py",
   "mimetype": "text/x-python",
   "name": "python",
   "nbconvert_exporter": "python",
   "pygments_lexer": "ipython2",
   "version": "2.7.12"
  }
 },
 "nbformat": 4,
 "nbformat_minor": 0
}
