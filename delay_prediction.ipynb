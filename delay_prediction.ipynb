{
 "cells": [
  {
   "cell_type": "code",
   "execution_count": 1,
   "metadata": {
    "collapsed": false
   },
   "outputs": [
    {
     "name": "stderr",
     "output_type": "stream",
     "text": [
      "/Users/TusharRanjan/anaconda/lib/python2.7/site-packages/sklearn/cross_validation.py:44: DeprecationWarning: This module was deprecated in version 0.18 in favor of the model_selection module into which all the refactored classes and functions are moved. Also note that the interface of the new CV iterators are different from that of this module. This module will be removed in 0.20.\n",
      "  \"This module will be removed in 0.20.\", DeprecationWarning)\n",
      "Using TensorFlow backend.\n",
      "/Users/TusharRanjan/anaconda/lib/python2.7/site-packages/matplotlib/font_manager.py:273: UserWarning: Matplotlib is building the font cache using fc-list. This may take a moment.\n",
      "  warnings.warn('Matplotlib is building the font cache using fc-list. This may take a moment.')\n"
     ]
    }
   ],
   "source": [
    "import pandas as pd\n",
    "from sklearn.cross_validation import train_test_split\n",
    "from sklearn.preprocessing import StandardScaler\n",
    "from keras.models import Sequential\n",
    "from keras.layers import Dense, BatchNormalization\n",
    "import matplotlib.pyplot as plt\n",
    "%matplotlib inline"
   ]
  },
  {
   "cell_type": "markdown",
   "metadata": {},
   "source": [
    "I'll be using two different models - one for arrivals and one for departures. I'll also split off 10% of the original data and use it as test data. I'll use the same architecture for both models. My goal is to minimize the mean absolute error between my predicted delays and the true delays.  "
   ]
  },
  {
   "cell_type": "code",
   "execution_count": 2,
   "metadata": {
    "collapsed": false
   },
   "outputs": [],
   "source": [
    "X = pd.read_csv('finaldf.csv')\n",
    "unnamed = X.pop('Unnamed: 0')\n",
    "y = pd.DataFrame({'ARRIVAL_DELAY':X.pop('ARRIVAL_DELAY'), 'DEPARTURE_DELAY':X.pop('DEPARTURE_DELAY')})\n",
    "X_train, X_test, y_train, y_test = train_test_split(X, y, test_size=0.1)\n",
    "scaler = StandardScaler()\n",
    "X_train = scaler.fit_transform(X_train)\n",
    "X_test = scaler.transform(X_test)"
   ]
  },
  {
   "cell_type": "code",
   "execution_count": 3,
   "metadata": {
    "collapsed": false
   },
   "outputs": [
    {
     "data": {
      "text/plain": [
       "(5142607, 76)"
      ]
     },
     "execution_count": 3,
     "metadata": {},
     "output_type": "execute_result"
    }
   ],
   "source": [
    "X_train.shape"
   ]
  },
  {
   "cell_type": "code",
   "execution_count": 4,
   "metadata": {
    "collapsed": false
   },
   "outputs": [
    {
     "data": {
      "text/plain": [
       "Index([u'SCHEDULED_DEPARTURE', u'TAXI_OUT', u'WHEELS_OFF', u'SCHEDULED_TIME',\n",
       "       u'ELAPSED_TIME', u'AIR_TIME', u'DISTANCE', u'WHEELS_ON', u'TAXI_IN',\n",
       "       u'SCHEDULED_ARRIVAL', u'PREVIOUS_ARRIVAL_DELAY',\n",
       "       u'PREVIOUS_DEPARTURE_DELAY', u'MONTH_2', u'MONTH_3', u'MONTH_4',\n",
       "       u'MONTH_5', u'MONTH_6', u'MONTH_7', u'MONTH_8', u'MONTH_9', u'MONTH_10',\n",
       "       u'MONTH_11', u'MONTH_12', u'DAY_2', u'DAY_3', u'DAY_4', u'DAY_5',\n",
       "       u'DAY_6', u'DAY_7', u'DAY_8', u'DAY_9', u'DAY_10', u'DAY_11', u'DAY_12',\n",
       "       u'DAY_13', u'DAY_14', u'DAY_15', u'DAY_16', u'DAY_17', u'DAY_18',\n",
       "       u'DAY_19', u'DAY_20', u'DAY_21', u'DAY_22', u'DAY_23', u'DAY_24',\n",
       "       u'DAY_25', u'DAY_26', u'DAY_27', u'DAY_28', u'DAY_29', u'DAY_30',\n",
       "       u'DAY_31', u'DAY_OF_WEEK_2', u'DAY_OF_WEEK_3', u'DAY_OF_WEEK_4',\n",
       "       u'DAY_OF_WEEK_5', u'DAY_OF_WEEK_6', u'DAY_OF_WEEK_7', u'AIRLINE_AS',\n",
       "       u'AIRLINE_B6', u'AIRLINE_DL', u'AIRLINE_EV', u'AIRLINE_F9',\n",
       "       u'AIRLINE_HA', u'AIRLINE_MQ', u'AIRLINE_NK', u'AIRLINE_OO',\n",
       "       u'AIRLINE_UA', u'AIRLINE_US', u'AIRLINE_VX', u'AIRLINE_WN',\n",
       "       u'ORIGIN_LATITUDE', u'ORIGIN_LONGITUDE', u'DESTINATION_LATITUDE',\n",
       "       u'DESTINATION_LONGITUDE'],\n",
       "      dtype='object')"
      ]
     },
     "execution_count": 4,
     "metadata": {},
     "output_type": "execute_result"
    }
   ],
   "source": [
    "X.columns"
   ]
  },
  {
   "cell_type": "code",
   "execution_count": 5,
   "metadata": {
    "collapsed": false
   },
   "outputs": [],
   "source": [
    "def build_model():\n",
    "    model = Sequential()\n",
    "\n",
    "    model.add(Dense(64, activation='relu', input_shape=(76,)))\n",
    "    model.add(Dense(64, activation='linear'))\n",
    "    model.add(BatchNormalization())\n",
    "\n",
    "    model.add(Dense(32, activation='relu'))\n",
    "    model.add(Dense(32, activation='linear'))\n",
    "    model.add(BatchNormalization())\n",
    "\n",
    "    model.add(Dense(16, activation='relu'))\n",
    "    model.add(Dense(16, activation='linear'))\n",
    "    model.add(BatchNormalization())\n",
    "\n",
    "    model.add(Dense(8, activation='relu'))\n",
    "    model.add(Dense(8, activation='linear'))\n",
    "    model.add(BatchNormalization())\n",
    "\n",
    "    model.add(Dense(4, activation='relu'))\n",
    "    model.add(Dense(4, activation='linear'))\n",
    "    model.add(BatchNormalization())\n",
    "\n",
    "    model.add(Dense(2, activation='relu'))\n",
    "    model.add(Dense(2, activation='linear'))\n",
    "    model.add(BatchNormalization())\n",
    "\n",
    "    model.add(Dense(1, activation='linear'))\n",
    "\n",
    "    return model"
   ]
  },
  {
   "cell_type": "code",
   "execution_count": 6,
   "metadata": {
    "collapsed": false
   },
   "outputs": [],
   "source": [
    "arrival_model = build_model()"
   ]
  },
  {
   "cell_type": "code",
   "execution_count": 7,
   "metadata": {
    "collapsed": false
   },
   "outputs": [
    {
     "name": "stdout",
     "output_type": "stream",
     "text": [
      "Epoch 1/25\n",
      " - 119s - loss: 8.9928\n",
      "Epoch 2/25\n",
      " - 115s - loss: 4.6850\n",
      "Epoch 3/25\n",
      " - 111s - loss: 4.4868\n",
      "Epoch 4/25\n",
      " - 120s - loss: 4.3114\n",
      "Epoch 5/25\n",
      " - 174s - loss: 4.2190\n",
      "Epoch 6/25\n",
      " - 135s - loss: 4.1761\n",
      "Epoch 7/25\n",
      " - 107s - loss: 4.1294\n",
      "Epoch 8/25\n",
      " - 152s - loss: 4.0898\n",
      "Epoch 9/25\n",
      " - 129s - loss: 4.0636\n",
      "Epoch 10/25\n",
      " - 127s - loss: 4.0404\n",
      "Epoch 11/25\n",
      " - 87s - loss: 4.0163\n",
      "Epoch 12/25\n",
      " - 89s - loss: 3.9922\n",
      "Epoch 13/25\n",
      " - 90s - loss: 3.9858\n",
      "Epoch 14/25\n",
      " - 91s - loss: 3.9709\n",
      "Epoch 15/25\n",
      " - 87s - loss: 3.9545\n",
      "Epoch 16/25\n",
      " - 88s - loss: 3.9581\n",
      "Epoch 17/25\n",
      " - 87s - loss: 3.9365\n",
      "Epoch 18/25\n",
      " - 88s - loss: 3.9292\n",
      "Epoch 19/25\n",
      " - 88s - loss: 3.9273\n",
      "Epoch 20/25\n",
      " - 86s - loss: 3.9084\n",
      "Epoch 21/25\n",
      " - 88s - loss: 3.9126\n",
      "Epoch 22/25\n",
      " - 87s - loss: 3.9076\n",
      "Epoch 23/25\n",
      " - 88s - loss: 3.9043\n",
      "Epoch 24/25\n",
      " - 85s - loss: 3.8933\n",
      "Epoch 25/25\n",
      " - 90s - loss: 3.8808\n"
     ]
    },
    {
     "data": {
      "text/plain": [
       "<keras.callbacks.History at 0x11369de90>"
      ]
     },
     "execution_count": 7,
     "metadata": {},
     "output_type": "execute_result"
    }
   ],
   "source": [
    "arrival_model.compile(loss='mean_absolute_error', optimizer='adam')\n",
    "arrival_model.fit(X_train, y_train['ARRIVAL_DELAY'], verbose=2, epochs=25, batch_size=1024)"
   ]
  },
  {
   "cell_type": "code",
   "execution_count": 8,
   "metadata": {
    "collapsed": false
   },
   "outputs": [
    {
     "data": {
      "text/plain": [
       "<matplotlib.collections.PathCollection at 0x12f597550>"
      ]
     },
     "execution_count": 8,
     "metadata": {},
     "output_type": "execute_result"
    },
    {
     "data": {
      "image/png": "[encoded data removed]",
      "text/plain": [
       "<matplotlib.figure.Figure at 0x1242d5e90>"
      ]
     },
     "metadata": {},
     "output_type": "display_data"
    }
   ],
   "source": [
    "y_arr_pred = arrival_model.predict(X_test)\n",
    "plt.figure()\n",
    "plt.xlabel(\"True Delay (Minutes)\")\n",
    "plt.ylabel(\"Predicted Delay (Minutes)\")\n",
    "plt.scatter(y_test['ARRIVAL_DELAY'], y_arr_pred)"
   ]
  },
  {
   "cell_type": "code",
   "execution_count": 9,
   "metadata": {
    "collapsed": false
   },
   "outputs": [
    {
     "data": {
      "text/plain": [
       "3.769191681853137"
      ]
     },
     "execution_count": 9,
     "metadata": {},
     "output_type": "execute_result"
    }
   ],
   "source": [
    "arrival_model.evaluate(X_test, y_test['ARRIVAL_DELAY'], verbose=2)"
   ]
  },
  {
   "cell_type": "code",
   "execution_count": 10,
   "metadata": {
    "collapsed": true
   },
   "outputs": [],
   "source": [
    "departure_model = build_model()"
   ]
  },
  {
   "cell_type": "code",
   "execution_count": 11,
   "metadata": {
    "collapsed": false
   },
   "outputs": [
    {
     "name": "stdout",
     "output_type": "stream",
     "text": [
      "Epoch 1/25\n",
      " - 99s - loss: 7.1411\n",
      "Epoch 2/25\n",
      " - 102s - loss: 4.4536\n",
      "Epoch 3/25\n",
      " - 105s - loss: 4.2672\n",
      "Epoch 4/25\n",
      " - 95s - loss: 4.1589\n",
      "Epoch 5/25\n",
      " - 90s - loss: 4.0863\n",
      "Epoch 6/25\n",
      " - 111s - loss: 4.0285\n",
      "Epoch 7/25\n",
      " - 115s - loss: 3.9976\n",
      "Epoch 8/25\n",
      " - 97s - loss: 3.9821\n",
      "Epoch 9/25\n",
      " - 111s - loss: 3.9632\n",
      "Epoch 10/25\n",
      " - 101s - loss: 3.9358\n",
      "Epoch 11/25\n",
      " - 98s - loss: 3.9203\n",
      "Epoch 12/25\n",
      " - 110s - loss: 3.9068\n",
      "Epoch 13/25\n",
      " - 124s - loss: 3.8994\n",
      "Epoch 14/25\n",
      " - 126s - loss: 3.8995\n",
      "Epoch 15/25\n",
      " - 131s - loss: 3.8754\n",
      "Epoch 16/25\n",
      " - 130s - loss: 3.8693\n",
      "Epoch 17/25\n",
      " - 123s - loss: 3.8692\n",
      "Epoch 18/25\n",
      " - 138s - loss: 3.8509\n",
      "Epoch 19/25\n",
      " - 114s - loss: 3.8480\n",
      "Epoch 20/25\n",
      " - 162s - loss: 3.8421\n",
      "Epoch 21/25\n",
      " - 168s - loss: 3.8242\n",
      "Epoch 22/25\n",
      " - 302s - loss: 3.8245\n",
      "Epoch 23/25\n",
      " - 128s - loss: 3.8298\n",
      "Epoch 24/25\n",
      " - 139s - loss: 3.8109\n",
      "Epoch 25/25\n",
      " - 169s - loss: 3.8161\n"
     ]
    },
    {
     "data": {
      "text/plain": [
       "<keras.callbacks.History at 0x1244bff90>"
      ]
     },
     "execution_count": 11,
     "metadata": {},
     "output_type": "execute_result"
    }
   ],
   "source": [
    "departure_model.compile(loss='mean_absolute_error', optimizer='adam')\n",
    "departure_model.fit(X_train, y_train['DEPARTURE_DELAY'], verbose=2, batch_size=1024, epochs=25)"
   ]
  },
  {
   "cell_type": "code",
   "execution_count": 12,
   "metadata": {
    "collapsed": false
   },
   "outputs": [
    {
     "data": {
      "text/plain": [
       "<matplotlib.collections.PathCollection at 0x131cc6590>"
      ]
     },
     "execution_count": 12,
     "metadata": {},
     "output_type": "execute_result"
    },
    {
     "data": {
      "image/png": "[encoded data removed]",
      "text/plain": [
       "<matplotlib.figure.Figure at 0x12ddee210>"
      ]
     },
     "metadata": {},
     "output_type": "display_data"
    }
   ],
   "source": [
    "y_dep_pred = departure_model.predict(X_test)\n",
    "plt.figure()\n",
    "plt.xlabel(\"True Delay (Minutes)\")\n",
    "plt.ylabel(\"Predicted Delay (Minutes)\")\n",
    "plt.scatter(y_test['DEPARTURE_DELAY'], y_dep_pred)"
   ]
  },
  {
   "cell_type": "code",
   "execution_count": 13,
   "metadata": {
    "collapsed": false
   },
   "outputs": [
    {
     "data": {
      "text/plain": [
       "3.589627995180984"
      ]
     },
     "execution_count": 13,
     "metadata": {},
     "output_type": "execute_result"
    }
   ],
   "source": [
    "departure_model.evaluate(X_test, y_test['DEPARTURE_DELAY'], verbose=2)"
   ]
  },
  {
   "cell_type": "markdown",
   "metadata": {},
   "source": [
    "<h1>Summary</h1>"
   ]
  },
  {
   "cell_type": "markdown",
   "metadata": {},
   "source": [
    "<table>\n",
    "    <tr>\n",
    "        <th></th>\n",
    "        <th>Mean Absolute Error (Minutes)</th>\n",
    "    </tr>\n",
    "    <tr>\n",
    "        <td>Arrival</td>\n",
    "        <td>3.769191681853137</td>\n",
    "    </tr>\n",
    "    <tr>\n",
    "        <td>Departure</td>\n",
    "        <td>3.589627995180984</td>\n",
    "    </tr>\n",
    "</table>"
   ]
  },
  {
   "cell_type": "markdown",
   "metadata": {},
   "source": [
    "In conclusion, these two models were able to predict both arrival delay and departure delay to within a mean absolute error of less than 4 minutes."
   ]
  },
  {
   "cell_type": "code",
   "execution_count": null,
   "metadata": {
    "collapsed": true
   },
   "outputs": [],
   "source": []
  }
 ],
 "metadata": {
  "kernelspec": {
   "display_name": "Python 2",
   "language": "python",
   "name": "python2"
  },
  "language_info": {
   "codemirror_mode": {
    "name": "ipython",
    "version": 2
   },
   "file_extension": ".py",
   "mimetype": "text/x-python",
   "name": "python",
   "nbconvert_exporter": "python",
   "pygments_lexer": "ipython2",
   "version": "2.7.12"
  }
 },
 "nbformat": 4,
 "nbformat_minor": 0
}
